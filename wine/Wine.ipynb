{
  "nbformat": 4,
  "nbformat_minor": 0,
  "metadata": {
    "colab": {
      "name": "Wine.ipynb",
      "provenance": [],
      "collapsed_sections": []
    },
    "kernelspec": {
      "name": "python3",
      "display_name": "Python 3"
    },
    "language_info": {
      "name": "python"
    }
  },
  "cells": [
    {
      "cell_type": "markdown",
      "metadata": {
        "id": "JXYh6Tw95iuL"
      },
      "source": [
        "# Analizaremos un dataset de vinos\n",
        "\n",
        "Principales investigacion del dataset son:\n",
        "1. Análisis exploratorio de datos\n",
        "2. Análisis Outliers\n",
        "3. Análisis de componentes principales\n",
        "4. Predicción y selección de modelos\n",
        "\n",
        "\n",
        "# 1. Análisis exploratorio de datos"
      ]
    },
    {
      "cell_type": "code",
      "metadata": {
        "colab": {
          "base_uri": "https://localhost:8080/"
        },
        "id": "cj1zcuLM4138",
        "outputId": "0703d769-8e7d-496a-c9d4-9539da125165"
      },
      "source": [
        "from google.colab import drive\n",
        "drive.mount('/content/drive/')"
      ],
      "execution_count": 974,
      "outputs": [
        {
          "output_type": "stream",
          "name": "stdout",
          "text": [
            "Drive already mounted at /content/drive/; to attempt to forcibly remount, call drive.mount(\"/content/drive/\", force_remount=True).\n"
          ]
        }
      ]
    },
    {
      "cell_type": "code",
      "metadata": {
        "colab": {
          "base_uri": "https://localhost:8080/"
        },
        "id": "t_mGQSiR5SU_",
        "outputId": "68283122-0821-4b9c-a6bf-fc51125dc16b"
      },
      "source": [
        "%cd '/content/drive/My Drive/Notebook Colab/Base de datos/Casos Analizados/wine'\n",
        "!ls"
      ],
      "execution_count": 975,
      "outputs": [
        {
          "output_type": "stream",
          "name": "stdout",
          "text": [
            "/content/drive/My Drive/Notebook Colab/Base de datos/Casos Analizados/wine\n",
            "Description.txt  winequality-red.csv  winequality-white.csv\n"
          ]
        }
      ]
    },
    {
      "cell_type": "code",
      "metadata": {
        "id": "KBDJRxu85l-j"
      },
      "source": [
        "import numpy as np\n",
        "import pandas as pd \n",
        "import os\n",
        "import sklearn\n",
        "import seaborn as sns\n",
        "import matplotlib.pyplot as plt\n",
        "import pylab\n",
        "import scipy.stats as stats\n",
        "import warnings\n",
        "warnings.filterwarnings(\"ignore\")"
      ],
      "execution_count": 976,
      "outputs": []
    },
    {
      "cell_type": "code",
      "metadata": {
        "id": "3KxJ4Phx52eT"
      },
      "source": [
        "data = pd.read_csv(\"winequality-red.csv\", sep = \";\")"
      ],
      "execution_count": 977,
      "outputs": []
    },
    {
      "cell_type": "code",
      "metadata": {
        "colab": {
          "base_uri": "https://localhost:8080/",
          "height": 224
        },
        "id": "TlP7U8dU56Sz",
        "outputId": "996e9b50-5889-435c-daf1-bb4d551553f5"
      },
      "source": [
        "data.head()"
      ],
      "execution_count": 978,
      "outputs": [
        {
          "output_type": "execute_result",
          "data": {
            "text/html": [
              "<div>\n",
              "<style scoped>\n",
              "    .dataframe tbody tr th:only-of-type {\n",
              "        vertical-align: middle;\n",
              "    }\n",
              "\n",
              "    .dataframe tbody tr th {\n",
              "        vertical-align: top;\n",
              "    }\n",
              "\n",
              "    .dataframe thead th {\n",
              "        text-align: right;\n",
              "    }\n",
              "</style>\n",
              "<table border=\"1\" class=\"dataframe\">\n",
              "  <thead>\n",
              "    <tr style=\"text-align: right;\">\n",
              "      <th></th>\n",
              "      <th>fixed acidity</th>\n",
              "      <th>volatile acidity</th>\n",
              "      <th>citric acid</th>\n",
              "      <th>residual sugar</th>\n",
              "      <th>chlorides</th>\n",
              "      <th>free sulfur dioxide</th>\n",
              "      <th>total sulfur dioxide</th>\n",
              "      <th>density</th>\n",
              "      <th>pH</th>\n",
              "      <th>sulphates</th>\n",
              "      <th>alcohol</th>\n",
              "      <th>quality</th>\n",
              "    </tr>\n",
              "  </thead>\n",
              "  <tbody>\n",
              "    <tr>\n",
              "      <th>0</th>\n",
              "      <td>7.4</td>\n",
              "      <td>0.70</td>\n",
              "      <td>0.00</td>\n",
              "      <td>1.9</td>\n",
              "      <td>0.076</td>\n",
              "      <td>11.0</td>\n",
              "      <td>34.0</td>\n",
              "      <td>0.9978</td>\n",
              "      <td>3.51</td>\n",
              "      <td>0.56</td>\n",
              "      <td>9.4</td>\n",
              "      <td>5</td>\n",
              "    </tr>\n",
              "    <tr>\n",
              "      <th>1</th>\n",
              "      <td>7.8</td>\n",
              "      <td>0.88</td>\n",
              "      <td>0.00</td>\n",
              "      <td>2.6</td>\n",
              "      <td>0.098</td>\n",
              "      <td>25.0</td>\n",
              "      <td>67.0</td>\n",
              "      <td>0.9968</td>\n",
              "      <td>3.20</td>\n",
              "      <td>0.68</td>\n",
              "      <td>9.8</td>\n",
              "      <td>5</td>\n",
              "    </tr>\n",
              "    <tr>\n",
              "      <th>2</th>\n",
              "      <td>7.8</td>\n",
              "      <td>0.76</td>\n",
              "      <td>0.04</td>\n",
              "      <td>2.3</td>\n",
              "      <td>0.092</td>\n",
              "      <td>15.0</td>\n",
              "      <td>54.0</td>\n",
              "      <td>0.9970</td>\n",
              "      <td>3.26</td>\n",
              "      <td>0.65</td>\n",
              "      <td>9.8</td>\n",
              "      <td>5</td>\n",
              "    </tr>\n",
              "    <tr>\n",
              "      <th>3</th>\n",
              "      <td>11.2</td>\n",
              "      <td>0.28</td>\n",
              "      <td>0.56</td>\n",
              "      <td>1.9</td>\n",
              "      <td>0.075</td>\n",
              "      <td>17.0</td>\n",
              "      <td>60.0</td>\n",
              "      <td>0.9980</td>\n",
              "      <td>3.16</td>\n",
              "      <td>0.58</td>\n",
              "      <td>9.8</td>\n",
              "      <td>6</td>\n",
              "    </tr>\n",
              "    <tr>\n",
              "      <th>4</th>\n",
              "      <td>7.4</td>\n",
              "      <td>0.70</td>\n",
              "      <td>0.00</td>\n",
              "      <td>1.9</td>\n",
              "      <td>0.076</td>\n",
              "      <td>11.0</td>\n",
              "      <td>34.0</td>\n",
              "      <td>0.9978</td>\n",
              "      <td>3.51</td>\n",
              "      <td>0.56</td>\n",
              "      <td>9.4</td>\n",
              "      <td>5</td>\n",
              "    </tr>\n",
              "  </tbody>\n",
              "</table>\n",
              "</div>"
            ],
            "text/plain": [
              "   fixed acidity  volatile acidity  citric acid  ...  sulphates  alcohol  quality\n",
              "0            7.4              0.70         0.00  ...       0.56      9.4        5\n",
              "1            7.8              0.88         0.00  ...       0.68      9.8        5\n",
              "2            7.8              0.76         0.04  ...       0.65      9.8        5\n",
              "3           11.2              0.28         0.56  ...       0.58      9.8        6\n",
              "4            7.4              0.70         0.00  ...       0.56      9.4        5\n",
              "\n",
              "[5 rows x 12 columns]"
            ]
          },
          "metadata": {},
          "execution_count": 978
        }
      ]
    },
    {
      "cell_type": "markdown",
      "metadata": {
        "id": "f1x3uO-v6DVU"
      },
      "source": [
        "verificamos la correlación para cada uno de los campos"
      ]
    },
    {
      "cell_type": "code",
      "metadata": {
        "colab": {
          "base_uri": "https://localhost:8080/",
          "height": 384
        },
        "id": "2mHrJo6q6D08",
        "outputId": "b8e15197-2476-48e8-f040-ab5aaf29b1af"
      },
      "source": [
        "data.groupby('quality').corr().unstack()"
      ],
      "execution_count": 979,
      "outputs": [
        {
          "output_type": "execute_result",
          "data": {
            "text/html": [
              "<div>\n",
              "<style scoped>\n",
              "    .dataframe tbody tr th:only-of-type {\n",
              "        vertical-align: middle;\n",
              "    }\n",
              "\n",
              "    .dataframe tbody tr th {\n",
              "        vertical-align: top;\n",
              "    }\n",
              "\n",
              "    .dataframe thead tr th {\n",
              "        text-align: left;\n",
              "    }\n",
              "\n",
              "    .dataframe thead tr:last-of-type th {\n",
              "        text-align: right;\n",
              "    }\n",
              "</style>\n",
              "<table border=\"1\" class=\"dataframe\">\n",
              "  <thead>\n",
              "    <tr>\n",
              "      <th></th>\n",
              "      <th colspan=\"11\" halign=\"left\">fixed acidity</th>\n",
              "      <th colspan=\"11\" halign=\"left\">volatile acidity</th>\n",
              "      <th colspan=\"11\" halign=\"left\">citric acid</th>\n",
              "      <th colspan=\"7\" halign=\"left\">residual sugar</th>\n",
              "      <th>...</th>\n",
              "      <th colspan=\"7\" halign=\"left\">density</th>\n",
              "      <th colspan=\"11\" halign=\"left\">pH</th>\n",
              "      <th colspan=\"11\" halign=\"left\">sulphates</th>\n",
              "      <th colspan=\"11\" halign=\"left\">alcohol</th>\n",
              "    </tr>\n",
              "    <tr>\n",
              "      <th></th>\n",
              "      <th>fixed acidity</th>\n",
              "      <th>volatile acidity</th>\n",
              "      <th>citric acid</th>\n",
              "      <th>residual sugar</th>\n",
              "      <th>chlorides</th>\n",
              "      <th>free sulfur dioxide</th>\n",
              "      <th>total sulfur dioxide</th>\n",
              "      <th>density</th>\n",
              "      <th>pH</th>\n",
              "      <th>sulphates</th>\n",
              "      <th>alcohol</th>\n",
              "      <th>fixed acidity</th>\n",
              "      <th>volatile acidity</th>\n",
              "      <th>citric acid</th>\n",
              "      <th>residual sugar</th>\n",
              "      <th>chlorides</th>\n",
              "      <th>free sulfur dioxide</th>\n",
              "      <th>total sulfur dioxide</th>\n",
              "      <th>density</th>\n",
              "      <th>pH</th>\n",
              "      <th>sulphates</th>\n",
              "      <th>alcohol</th>\n",
              "      <th>fixed acidity</th>\n",
              "      <th>volatile acidity</th>\n",
              "      <th>citric acid</th>\n",
              "      <th>residual sugar</th>\n",
              "      <th>chlorides</th>\n",
              "      <th>free sulfur dioxide</th>\n",
              "      <th>total sulfur dioxide</th>\n",
              "      <th>density</th>\n",
              "      <th>pH</th>\n",
              "      <th>sulphates</th>\n",
              "      <th>alcohol</th>\n",
              "      <th>fixed acidity</th>\n",
              "      <th>volatile acidity</th>\n",
              "      <th>citric acid</th>\n",
              "      <th>residual sugar</th>\n",
              "      <th>chlorides</th>\n",
              "      <th>free sulfur dioxide</th>\n",
              "      <th>total sulfur dioxide</th>\n",
              "      <th>...</th>\n",
              "      <th>chlorides</th>\n",
              "      <th>free sulfur dioxide</th>\n",
              "      <th>total sulfur dioxide</th>\n",
              "      <th>density</th>\n",
              "      <th>pH</th>\n",
              "      <th>sulphates</th>\n",
              "      <th>alcohol</th>\n",
              "      <th>fixed acidity</th>\n",
              "      <th>volatile acidity</th>\n",
              "      <th>citric acid</th>\n",
              "      <th>residual sugar</th>\n",
              "      <th>chlorides</th>\n",
              "      <th>free sulfur dioxide</th>\n",
              "      <th>total sulfur dioxide</th>\n",
              "      <th>density</th>\n",
              "      <th>pH</th>\n",
              "      <th>sulphates</th>\n",
              "      <th>alcohol</th>\n",
              "      <th>fixed acidity</th>\n",
              "      <th>volatile acidity</th>\n",
              "      <th>citric acid</th>\n",
              "      <th>residual sugar</th>\n",
              "      <th>chlorides</th>\n",
              "      <th>free sulfur dioxide</th>\n",
              "      <th>total sulfur dioxide</th>\n",
              "      <th>density</th>\n",
              "      <th>pH</th>\n",
              "      <th>sulphates</th>\n",
              "      <th>alcohol</th>\n",
              "      <th>fixed acidity</th>\n",
              "      <th>volatile acidity</th>\n",
              "      <th>citric acid</th>\n",
              "      <th>residual sugar</th>\n",
              "      <th>chlorides</th>\n",
              "      <th>free sulfur dioxide</th>\n",
              "      <th>total sulfur dioxide</th>\n",
              "      <th>density</th>\n",
              "      <th>pH</th>\n",
              "      <th>sulphates</th>\n",
              "      <th>alcohol</th>\n",
              "    </tr>\n",
              "    <tr>\n",
              "      <th>quality</th>\n",
              "      <th></th>\n",
              "      <th></th>\n",
              "      <th></th>\n",
              "      <th></th>\n",
              "      <th></th>\n",
              "      <th></th>\n",
              "      <th></th>\n",
              "      <th></th>\n",
              "      <th></th>\n",
              "      <th></th>\n",
              "      <th></th>\n",
              "      <th></th>\n",
              "      <th></th>\n",
              "      <th></th>\n",
              "      <th></th>\n",
              "      <th></th>\n",
              "      <th></th>\n",
              "      <th></th>\n",
              "      <th></th>\n",
              "      <th></th>\n",
              "      <th></th>\n",
              "      <th></th>\n",
              "      <th></th>\n",
              "      <th></th>\n",
              "      <th></th>\n",
              "      <th></th>\n",
              "      <th></th>\n",
              "      <th></th>\n",
              "      <th></th>\n",
              "      <th></th>\n",
              "      <th></th>\n",
              "      <th></th>\n",
              "      <th></th>\n",
              "      <th></th>\n",
              "      <th></th>\n",
              "      <th></th>\n",
              "      <th></th>\n",
              "      <th></th>\n",
              "      <th></th>\n",
              "      <th></th>\n",
              "      <th></th>\n",
              "      <th></th>\n",
              "      <th></th>\n",
              "      <th></th>\n",
              "      <th></th>\n",
              "      <th></th>\n",
              "      <th></th>\n",
              "      <th></th>\n",
              "      <th></th>\n",
              "      <th></th>\n",
              "      <th></th>\n",
              "      <th></th>\n",
              "      <th></th>\n",
              "      <th></th>\n",
              "      <th></th>\n",
              "      <th></th>\n",
              "      <th></th>\n",
              "      <th></th>\n",
              "      <th></th>\n",
              "      <th></th>\n",
              "      <th></th>\n",
              "      <th></th>\n",
              "      <th></th>\n",
              "      <th></th>\n",
              "      <th></th>\n",
              "      <th></th>\n",
              "      <th></th>\n",
              "      <th></th>\n",
              "      <th></th>\n",
              "      <th></th>\n",
              "      <th></th>\n",
              "      <th></th>\n",
              "      <th></th>\n",
              "      <th></th>\n",
              "      <th></th>\n",
              "      <th></th>\n",
              "      <th></th>\n",
              "      <th></th>\n",
              "      <th></th>\n",
              "      <th></th>\n",
              "      <th></th>\n",
              "    </tr>\n",
              "  </thead>\n",
              "  <tbody>\n",
              "    <tr>\n",
              "      <th>3</th>\n",
              "      <td>1.0</td>\n",
              "      <td>-0.578216</td>\n",
              "      <td>0.962292</td>\n",
              "      <td>-0.254091</td>\n",
              "      <td>0.025859</td>\n",
              "      <td>0.276965</td>\n",
              "      <td>0.474094</td>\n",
              "      <td>0.805218</td>\n",
              "      <td>-0.586613</td>\n",
              "      <td>0.491068</td>\n",
              "      <td>-0.587774</td>\n",
              "      <td>-0.578216</td>\n",
              "      <td>1.0</td>\n",
              "      <td>-0.692684</td>\n",
              "      <td>0.269033</td>\n",
              "      <td>-0.148329</td>\n",
              "      <td>-0.471159</td>\n",
              "      <td>-0.539056</td>\n",
              "      <td>-0.593561</td>\n",
              "      <td>0.578023</td>\n",
              "      <td>-0.792241</td>\n",
              "      <td>0.717392</td>\n",
              "      <td>0.962292</td>\n",
              "      <td>-0.692684</td>\n",
              "      <td>1.0</td>\n",
              "      <td>-0.284902</td>\n",
              "      <td>0.057917</td>\n",
              "      <td>0.268307</td>\n",
              "      <td>0.528138</td>\n",
              "      <td>0.779402</td>\n",
              "      <td>-0.681522</td>\n",
              "      <td>0.535104</td>\n",
              "      <td>-0.755958</td>\n",
              "      <td>-0.254091</td>\n",
              "      <td>0.269033</td>\n",
              "      <td>-0.284902</td>\n",
              "      <td>1.0</td>\n",
              "      <td>-0.461623</td>\n",
              "      <td>-0.528559</td>\n",
              "      <td>-0.434391</td>\n",
              "      <td>...</td>\n",
              "      <td>-0.333509</td>\n",
              "      <td>0.021374</td>\n",
              "      <td>0.327653</td>\n",
              "      <td>1.0</td>\n",
              "      <td>-0.499673</td>\n",
              "      <td>0.358627</td>\n",
              "      <td>-0.490591</td>\n",
              "      <td>-0.586613</td>\n",
              "      <td>0.578023</td>\n",
              "      <td>-0.681522</td>\n",
              "      <td>0.348461</td>\n",
              "      <td>-0.372267</td>\n",
              "      <td>-0.253583</td>\n",
              "      <td>-0.517092</td>\n",
              "      <td>-0.499673</td>\n",
              "      <td>1.0</td>\n",
              "      <td>-0.220613</td>\n",
              "      <td>0.850144</td>\n",
              "      <td>0.491068</td>\n",
              "      <td>-0.792241</td>\n",
              "      <td>0.535104</td>\n",
              "      <td>-0.316072</td>\n",
              "      <td>0.061448</td>\n",
              "      <td>0.702262</td>\n",
              "      <td>0.505921</td>\n",
              "      <td>0.358627</td>\n",
              "      <td>-0.220613</td>\n",
              "      <td>1.0</td>\n",
              "      <td>-0.416332</td>\n",
              "      <td>-0.587774</td>\n",
              "      <td>0.717392</td>\n",
              "      <td>-0.755958</td>\n",
              "      <td>0.379967</td>\n",
              "      <td>-0.281697</td>\n",
              "      <td>-0.157897</td>\n",
              "      <td>-0.448725</td>\n",
              "      <td>-0.490591</td>\n",
              "      <td>0.850144</td>\n",
              "      <td>-0.416332</td>\n",
              "      <td>1.0</td>\n",
              "    </tr>\n",
              "    <tr>\n",
              "      <th>4</th>\n",
              "      <td>1.0</td>\n",
              "      <td>-0.246384</td>\n",
              "      <td>0.546197</td>\n",
              "      <td>-0.086194</td>\n",
              "      <td>0.155361</td>\n",
              "      <td>0.174458</td>\n",
              "      <td>0.081251</td>\n",
              "      <td>0.711178</td>\n",
              "      <td>-0.674222</td>\n",
              "      <td>0.180952</td>\n",
              "      <td>-0.386421</td>\n",
              "      <td>-0.246384</td>\n",
              "      <td>1.0</td>\n",
              "      <td>-0.482117</td>\n",
              "      <td>-0.253123</td>\n",
              "      <td>-0.069906</td>\n",
              "      <td>-0.063407</td>\n",
              "      <td>-0.136015</td>\n",
              "      <td>-0.084559</td>\n",
              "      <td>0.327576</td>\n",
              "      <td>-0.177444</td>\n",
              "      <td>0.075597</td>\n",
              "      <td>0.546197</td>\n",
              "      <td>-0.482117</td>\n",
              "      <td>1.0</td>\n",
              "      <td>0.147987</td>\n",
              "      <td>0.575887</td>\n",
              "      <td>0.311403</td>\n",
              "      <td>0.345094</td>\n",
              "      <td>0.420314</td>\n",
              "      <td>-0.637754</td>\n",
              "      <td>0.531705</td>\n",
              "      <td>-0.164026</td>\n",
              "      <td>-0.086194</td>\n",
              "      <td>-0.253123</td>\n",
              "      <td>0.147987</td>\n",
              "      <td>1.0</td>\n",
              "      <td>-0.000846</td>\n",
              "      <td>-0.049080</td>\n",
              "      <td>0.299524</td>\n",
              "      <td>...</td>\n",
              "      <td>0.328062</td>\n",
              "      <td>0.204606</td>\n",
              "      <td>0.243758</td>\n",
              "      <td>1.0</td>\n",
              "      <td>-0.499435</td>\n",
              "      <td>0.359954</td>\n",
              "      <td>-0.424285</td>\n",
              "      <td>-0.674222</td>\n",
              "      <td>0.327576</td>\n",
              "      <td>-0.637754</td>\n",
              "      <td>-0.075492</td>\n",
              "      <td>-0.474853</td>\n",
              "      <td>-0.076811</td>\n",
              "      <td>-0.144515</td>\n",
              "      <td>-0.499435</td>\n",
              "      <td>1.0</td>\n",
              "      <td>-0.477994</td>\n",
              "      <td>0.521829</td>\n",
              "      <td>0.180952</td>\n",
              "      <td>-0.177444</td>\n",
              "      <td>0.531705</td>\n",
              "      <td>0.013150</td>\n",
              "      <td>0.812864</td>\n",
              "      <td>0.407984</td>\n",
              "      <td>0.332375</td>\n",
              "      <td>0.359954</td>\n",
              "      <td>-0.477994</td>\n",
              "      <td>1.0</td>\n",
              "      <td>-0.137167</td>\n",
              "      <td>-0.386421</td>\n",
              "      <td>0.075597</td>\n",
              "      <td>-0.164026</td>\n",
              "      <td>0.351103</td>\n",
              "      <td>-0.177733</td>\n",
              "      <td>-0.219178</td>\n",
              "      <td>-0.120225</td>\n",
              "      <td>-0.424285</td>\n",
              "      <td>0.521829</td>\n",
              "      <td>-0.137167</td>\n",
              "      <td>1.0</td>\n",
              "    </tr>\n",
              "    <tr>\n",
              "      <th>5</th>\n",
              "      <td>1.0</td>\n",
              "      <td>-0.173671</td>\n",
              "      <td>0.626558</td>\n",
              "      <td>0.147487</td>\n",
              "      <td>0.088161</td>\n",
              "      <td>-0.091618</td>\n",
              "      <td>-0.033847</td>\n",
              "      <td>0.683710</td>\n",
              "      <td>-0.631751</td>\n",
              "      <td>0.100742</td>\n",
              "      <td>0.013824</td>\n",
              "      <td>-0.173671</td>\n",
              "      <td>1.0</td>\n",
              "      <td>-0.482535</td>\n",
              "      <td>0.013208</td>\n",
              "      <td>-0.003112</td>\n",
              "      <td>-0.039897</td>\n",
              "      <td>0.008791</td>\n",
              "      <td>-0.090819</td>\n",
              "      <td>0.154815</td>\n",
              "      <td>-0.166929</td>\n",
              "      <td>-0.016112</td>\n",
              "      <td>0.626558</td>\n",
              "      <td>-0.482535</td>\n",
              "      <td>1.0</td>\n",
              "      <td>0.135554</td>\n",
              "      <td>0.274648</td>\n",
              "      <td>0.025683</td>\n",
              "      <td>0.167537</td>\n",
              "      <td>0.442651</td>\n",
              "      <td>-0.468867</td>\n",
              "      <td>0.288890</td>\n",
              "      <td>-0.003364</td>\n",
              "      <td>0.147487</td>\n",
              "      <td>0.013208</td>\n",
              "      <td>0.135554</td>\n",
              "      <td>1.0</td>\n",
              "      <td>0.030526</td>\n",
              "      <td>0.275739</td>\n",
              "      <td>0.210069</td>\n",
              "      <td>...</td>\n",
              "      <td>0.120409</td>\n",
              "      <td>0.077776</td>\n",
              "      <td>0.126217</td>\n",
              "      <td>1.0</td>\n",
              "      <td>-0.270088</td>\n",
              "      <td>0.186996</td>\n",
              "      <td>-0.288762</td>\n",
              "      <td>-0.631751</td>\n",
              "      <td>0.154815</td>\n",
              "      <td>-0.468867</td>\n",
              "      <td>-0.075648</td>\n",
              "      <td>-0.300852</td>\n",
              "      <td>-0.017936</td>\n",
              "      <td>-0.132186</td>\n",
              "      <td>-0.270088</td>\n",
              "      <td>1.0</td>\n",
              "      <td>-0.203596</td>\n",
              "      <td>0.237317</td>\n",
              "      <td>0.100742</td>\n",
              "      <td>-0.166929</td>\n",
              "      <td>0.288890</td>\n",
              "      <td>0.043592</td>\n",
              "      <td>0.509021</td>\n",
              "      <td>0.066473</td>\n",
              "      <td>0.131126</td>\n",
              "      <td>0.186996</td>\n",
              "      <td>-0.203596</td>\n",
              "      <td>1.0</td>\n",
              "      <td>-0.015282</td>\n",
              "      <td>0.013824</td>\n",
              "      <td>-0.016112</td>\n",
              "      <td>-0.003364</td>\n",
              "      <td>0.053613</td>\n",
              "      <td>-0.184098</td>\n",
              "      <td>-0.135050</td>\n",
              "      <td>-0.213756</td>\n",
              "      <td>-0.288762</td>\n",
              "      <td>0.237317</td>\n",
              "      <td>-0.015282</td>\n",
              "      <td>1.0</td>\n",
              "    </tr>\n",
              "    <tr>\n",
              "      <th>6</th>\n",
              "      <td>1.0</td>\n",
              "      <td>-0.264029</td>\n",
              "      <td>0.674388</td>\n",
              "      <td>0.076106</td>\n",
              "      <td>0.123018</td>\n",
              "      <td>-0.232930</td>\n",
              "      <td>-0.160250</td>\n",
              "      <td>0.700432</td>\n",
              "      <td>-0.710134</td>\n",
              "      <td>0.212904</td>\n",
              "      <td>-0.144867</td>\n",
              "      <td>-0.264029</td>\n",
              "      <td>1.0</td>\n",
              "      <td>-0.572039</td>\n",
              "      <td>0.006371</td>\n",
              "      <td>0.045445</td>\n",
              "      <td>-0.009017</td>\n",
              "      <td>0.047366</td>\n",
              "      <td>-0.008321</td>\n",
              "      <td>0.253269</td>\n",
              "      <td>-0.191156</td>\n",
              "      <td>-0.107650</td>\n",
              "      <td>0.674388</td>\n",
              "      <td>-0.572039</td>\n",
              "      <td>1.0</td>\n",
              "      <td>0.109590</td>\n",
              "      <td>0.168632</td>\n",
              "      <td>-0.159601</td>\n",
              "      <td>-0.040080</td>\n",
              "      <td>0.374590</td>\n",
              "      <td>-0.546440</td>\n",
              "      <td>0.245993</td>\n",
              "      <td>0.059409</td>\n",
              "      <td>0.076106</td>\n",
              "      <td>0.006371</td>\n",
              "      <td>0.109590</td>\n",
              "      <td>1.0</td>\n",
              "      <td>0.109797</td>\n",
              "      <td>0.194308</td>\n",
              "      <td>0.223780</td>\n",
              "      <td>...</td>\n",
              "      <td>0.231383</td>\n",
              "      <td>-0.145264</td>\n",
              "      <td>-0.014474</td>\n",
              "      <td>1.0</td>\n",
              "      <td>-0.380715</td>\n",
              "      <td>0.217310</td>\n",
              "      <td>-0.547123</td>\n",
              "      <td>-0.710134</td>\n",
              "      <td>0.253269</td>\n",
              "      <td>-0.546440</td>\n",
              "      <td>-0.070437</td>\n",
              "      <td>-0.242959</td>\n",
              "      <td>0.189232</td>\n",
              "      <td>0.009727</td>\n",
              "      <td>-0.380715</td>\n",
              "      <td>1.0</td>\n",
              "      <td>-0.188505</td>\n",
              "      <td>0.215453</td>\n",
              "      <td>0.212904</td>\n",
              "      <td>-0.191156</td>\n",
              "      <td>0.245993</td>\n",
              "      <td>-0.012232</td>\n",
              "      <td>0.271973</td>\n",
              "      <td>0.051756</td>\n",
              "      <td>0.085171</td>\n",
              "      <td>0.217310</td>\n",
              "      <td>-0.188505</td>\n",
              "      <td>1.0</td>\n",
              "      <td>-0.046248</td>\n",
              "      <td>-0.144867</td>\n",
              "      <td>-0.107650</td>\n",
              "      <td>0.059409</td>\n",
              "      <td>-0.026036</td>\n",
              "      <td>-0.209445</td>\n",
              "      <td>0.061258</td>\n",
              "      <td>-0.084858</td>\n",
              "      <td>-0.547123</td>\n",
              "      <td>0.215453</td>\n",
              "      <td>-0.046248</td>\n",
              "      <td>1.0</td>\n",
              "    </tr>\n",
              "    <tr>\n",
              "      <th>7</th>\n",
              "      <td>1.0</td>\n",
              "      <td>-0.251427</td>\n",
              "      <td>0.734071</td>\n",
              "      <td>0.171470</td>\n",
              "      <td>0.196827</td>\n",
              "      <td>-0.141558</td>\n",
              "      <td>-0.160504</td>\n",
              "      <td>0.776117</td>\n",
              "      <td>-0.769580</td>\n",
              "      <td>0.192014</td>\n",
              "      <td>-0.378985</td>\n",
              "      <td>-0.251427</td>\n",
              "      <td>1.0</td>\n",
              "      <td>-0.492183</td>\n",
              "      <td>0.104481</td>\n",
              "      <td>0.094739</td>\n",
              "      <td>0.015892</td>\n",
              "      <td>0.020541</td>\n",
              "      <td>0.051042</td>\n",
              "      <td>0.321291</td>\n",
              "      <td>-0.221008</td>\n",
              "      <td>0.018899</td>\n",
              "      <td>0.734071</td>\n",
              "      <td>-0.492183</td>\n",
              "      <td>1.0</td>\n",
              "      <td>0.267611</td>\n",
              "      <td>0.241087</td>\n",
              "      <td>-0.035118</td>\n",
              "      <td>0.038613</td>\n",
              "      <td>0.493409</td>\n",
              "      <td>-0.715474</td>\n",
              "      <td>0.211654</td>\n",
              "      <td>-0.072862</td>\n",
              "      <td>0.171470</td>\n",
              "      <td>0.104481</td>\n",
              "      <td>0.267611</td>\n",
              "      <td>1.0</td>\n",
              "      <td>0.117921</td>\n",
              "      <td>0.044085</td>\n",
              "      <td>0.290520</td>\n",
              "      <td>...</td>\n",
              "      <td>0.335964</td>\n",
              "      <td>-0.067309</td>\n",
              "      <td>-0.155308</td>\n",
              "      <td>1.0</td>\n",
              "      <td>-0.434567</td>\n",
              "      <td>0.229230</td>\n",
              "      <td>-0.581718</td>\n",
              "      <td>-0.769580</td>\n",
              "      <td>0.321291</td>\n",
              "      <td>-0.715474</td>\n",
              "      <td>-0.188147</td>\n",
              "      <td>-0.171151</td>\n",
              "      <td>0.107349</td>\n",
              "      <td>0.016146</td>\n",
              "      <td>-0.434567</td>\n",
              "      <td>1.0</td>\n",
              "      <td>-0.037083</td>\n",
              "      <td>0.314296</td>\n",
              "      <td>0.192014</td>\n",
              "      <td>-0.221008</td>\n",
              "      <td>0.211654</td>\n",
              "      <td>-0.132463</td>\n",
              "      <td>0.146729</td>\n",
              "      <td>0.040395</td>\n",
              "      <td>-0.046001</td>\n",
              "      <td>0.229230</td>\n",
              "      <td>-0.037083</td>\n",
              "      <td>1.0</td>\n",
              "      <td>-0.049359</td>\n",
              "      <td>-0.378985</td>\n",
              "      <td>0.018899</td>\n",
              "      <td>-0.072862</td>\n",
              "      <td>0.063209</td>\n",
              "      <td>-0.207699</td>\n",
              "      <td>-0.027508</td>\n",
              "      <td>0.116676</td>\n",
              "      <td>-0.581718</td>\n",
              "      <td>0.314296</td>\n",
              "      <td>-0.049359</td>\n",
              "      <td>1.0</td>\n",
              "    </tr>\n",
              "    <tr>\n",
              "      <th>8</th>\n",
              "      <td>1.0</td>\n",
              "      <td>-0.402157</td>\n",
              "      <td>0.886495</td>\n",
              "      <td>0.461939</td>\n",
              "      <td>0.701659</td>\n",
              "      <td>-0.336664</td>\n",
              "      <td>-0.516368</td>\n",
              "      <td>0.847900</td>\n",
              "      <td>-0.831915</td>\n",
              "      <td>-0.268745</td>\n",
              "      <td>-0.496604</td>\n",
              "      <td>-0.402157</td>\n",
              "      <td>1.0</td>\n",
              "      <td>-0.540887</td>\n",
              "      <td>-0.080450</td>\n",
              "      <td>-0.436457</td>\n",
              "      <td>0.043786</td>\n",
              "      <td>0.434491</td>\n",
              "      <td>-0.402022</td>\n",
              "      <td>0.562767</td>\n",
              "      <td>-0.072005</td>\n",
              "      <td>0.532711</td>\n",
              "      <td>0.886495</td>\n",
              "      <td>-0.540887</td>\n",
              "      <td>1.0</td>\n",
              "      <td>0.407597</td>\n",
              "      <td>0.796009</td>\n",
              "      <td>-0.430389</td>\n",
              "      <td>-0.585721</td>\n",
              "      <td>0.823639</td>\n",
              "      <td>-0.790004</td>\n",
              "      <td>-0.169040</td>\n",
              "      <td>-0.460259</td>\n",
              "      <td>0.461939</td>\n",
              "      <td>-0.080450</td>\n",
              "      <td>0.407597</td>\n",
              "      <td>1.0</td>\n",
              "      <td>0.483379</td>\n",
              "      <td>-0.287416</td>\n",
              "      <td>-0.360621</td>\n",
              "      <td>...</td>\n",
              "      <td>0.623528</td>\n",
              "      <td>-0.501057</td>\n",
              "      <td>-0.614362</td>\n",
              "      <td>1.0</td>\n",
              "      <td>-0.646249</td>\n",
              "      <td>0.064437</td>\n",
              "      <td>-0.543465</td>\n",
              "      <td>-0.831915</td>\n",
              "      <td>0.562767</td>\n",
              "      <td>-0.790004</td>\n",
              "      <td>-0.147629</td>\n",
              "      <td>-0.618279</td>\n",
              "      <td>0.213503</td>\n",
              "      <td>0.432303</td>\n",
              "      <td>-0.646249</td>\n",
              "      <td>1.0</td>\n",
              "      <td>0.099071</td>\n",
              "      <td>0.698383</td>\n",
              "      <td>-0.268745</td>\n",
              "      <td>-0.072005</td>\n",
              "      <td>-0.169040</td>\n",
              "      <td>0.001618</td>\n",
              "      <td>-0.267275</td>\n",
              "      <td>-0.256334</td>\n",
              "      <td>-0.025503</td>\n",
              "      <td>0.064437</td>\n",
              "      <td>0.099071</td>\n",
              "      <td>1.0</td>\n",
              "      <td>-0.212935</td>\n",
              "      <td>-0.496604</td>\n",
              "      <td>0.532711</td>\n",
              "      <td>-0.460259</td>\n",
              "      <td>0.224800</td>\n",
              "      <td>-0.171421</td>\n",
              "      <td>0.343895</td>\n",
              "      <td>0.450748</td>\n",
              "      <td>-0.543465</td>\n",
              "      <td>0.698383</td>\n",
              "      <td>-0.212935</td>\n",
              "      <td>1.0</td>\n",
              "    </tr>\n",
              "  </tbody>\n",
              "</table>\n",
              "<p>6 rows × 121 columns</p>\n",
              "</div>"
            ],
            "text/plain": [
              "        fixed acidity                               ...   alcohol                  \n",
              "        fixed acidity volatile acidity citric acid  ...        pH sulphates alcohol\n",
              "quality                                             ...                            \n",
              "3                 1.0        -0.578216    0.962292  ...  0.850144 -0.416332     1.0\n",
              "4                 1.0        -0.246384    0.546197  ...  0.521829 -0.137167     1.0\n",
              "5                 1.0        -0.173671    0.626558  ...  0.237317 -0.015282     1.0\n",
              "6                 1.0        -0.264029    0.674388  ...  0.215453 -0.046248     1.0\n",
              "7                 1.0        -0.251427    0.734071  ...  0.314296 -0.049359     1.0\n",
              "8                 1.0        -0.402157    0.886495  ...  0.698383 -0.212935     1.0\n",
              "\n",
              "[6 rows x 121 columns]"
            ]
          },
          "metadata": {},
          "execution_count": 979
        }
      ]
    },
    {
      "cell_type": "code",
      "metadata": {
        "colab": {
          "base_uri": "https://localhost:8080/",
          "height": 805
        },
        "id": "f_XH6iKa4djN",
        "outputId": "88c3614c-60f8-4d63-8e09-7d7a0dc06d77"
      },
      "source": [
        "corelation=data.corr()\n",
        "plt.figure(figsize=(14,12))\n",
        "sns.heatmap(corelation,annot=True)"
      ],
      "execution_count": 980,
      "outputs": [
        {
          "output_type": "execute_result",
          "data": {
            "text/plain": [
              "<matplotlib.axes._subplots.AxesSubplot at 0x7f6392fc3ad0>"
            ]
          },
          "metadata": {},
          "execution_count": 980
        },
        {
          "output_type": "display_data",
          "data": {
            "image/png": "[encoded data removed]",
            "text/plain": [
              "<Figure size 1008x864 with 2 Axes>"
            ]
          },
          "metadata": {
            "needs_background": "light"
          }
        }
      ]
    },
    {
      "cell_type": "code",
      "metadata": {
        "colab": {
          "base_uri": "https://localhost:8080/"
        },
        "id": "-QG3e6J66RO7",
        "outputId": "883d6f62-62b6-40e5-cd67-adc2c917e740"
      },
      "source": [
        "data.columns"
      ],
      "execution_count": 981,
      "outputs": [
        {
          "output_type": "execute_result",
          "data": {
            "text/plain": [
              "Index(['fixed acidity', 'volatile acidity', 'citric acid', 'residual sugar',\n",
              "       'chlorides', 'free sulfur dioxide', 'total sulfur dioxide', 'density',\n",
              "       'pH', 'sulphates', 'alcohol', 'quality'],\n",
              "      dtype='object')"
            ]
          },
          "metadata": {},
          "execution_count": 981
        }
      ]
    },
    {
      "cell_type": "code",
      "metadata": {
        "colab": {
          "base_uri": "https://localhost:8080/"
        },
        "id": "OZD-IIZR7BsV",
        "outputId": "47d0d50b-62bc-4e10-f68a-ee1db01d7a5a"
      },
      "source": [
        "data.info()"
      ],
      "execution_count": 982,
      "outputs": [
        {
          "output_type": "stream",
          "name": "stdout",
          "text": [
            "<class 'pandas.core.frame.DataFrame'>\n",
            "RangeIndex: 1599 entries, 0 to 1598\n",
            "Data columns (total 12 columns):\n",
            " #   Column                Non-Null Count  Dtype  \n",
            "---  ------                --------------  -----  \n",
            " 0   fixed acidity         1599 non-null   float64\n",
            " 1   volatile acidity      1599 non-null   float64\n",
            " 2   citric acid           1599 non-null   float64\n",
            " 3   residual sugar        1599 non-null   float64\n",
            " 4   chlorides             1599 non-null   float64\n",
            " 5   free sulfur dioxide   1599 non-null   float64\n",
            " 6   total sulfur dioxide  1599 non-null   float64\n",
            " 7   density               1599 non-null   float64\n",
            " 8   pH                    1599 non-null   float64\n",
            " 9   sulphates             1599 non-null   float64\n",
            " 10  alcohol               1599 non-null   float64\n",
            " 11  quality               1599 non-null   int64  \n",
            "dtypes: float64(11), int64(1)\n",
            "memory usage: 150.0 KB\n"
          ]
        }
      ]
    },
    {
      "cell_type": "markdown",
      "metadata": {
        "id": "2fJ3K5YW7SbG"
      },
      "source": [
        "¿Hay datos perdidos?"
      ]
    },
    {
      "cell_type": "code",
      "metadata": {
        "colab": {
          "base_uri": "https://localhost:8080/"
        },
        "id": "X8mXmgS77Lwu",
        "outputId": "d2402d4e-d4d7-4646-aeb4-71264593a1f3"
      },
      "source": [
        "data.quality = pd.to_numeric(data.quality, errors='coerce')\n",
        "data.isnull().sum()"
      ],
      "execution_count": 983,
      "outputs": [
        {
          "output_type": "execute_result",
          "data": {
            "text/plain": [
              "fixed acidity           0\n",
              "volatile acidity        0\n",
              "citric acid             0\n",
              "residual sugar          0\n",
              "chlorides               0\n",
              "free sulfur dioxide     0\n",
              "total sulfur dioxide    0\n",
              "density                 0\n",
              "pH                      0\n",
              "sulphates               0\n",
              "alcohol                 0\n",
              "quality                 0\n",
              "dtype: int64"
            ]
          },
          "metadata": {},
          "execution_count": 983
        }
      ]
    },
    {
      "cell_type": "markdown",
      "metadata": {
        "id": "OXu4-Vtk7Y4t"
      },
      "source": [
        "¿Cuales son los datos de la columna 'quality'?"
      ]
    },
    {
      "cell_type": "code",
      "metadata": {
        "colab": {
          "base_uri": "https://localhost:8080/"
        },
        "id": "NAlW1yfO7Vys",
        "outputId": "c8e31d0b-aaf1-43a1-bf6d-8146f0e205e2"
      },
      "source": [
        "data['quality'].unique()"
      ],
      "execution_count": 984,
      "outputs": [
        {
          "output_type": "execute_result",
          "data": {
            "text/plain": [
              "array([5, 6, 7, 4, 8, 3])"
            ]
          },
          "metadata": {},
          "execution_count": 984
        }
      ]
    },
    {
      "cell_type": "markdown",
      "metadata": {
        "id": "zmLemm0i7lFc"
      },
      "source": [
        "# 2. Analisis Outliers\n",
        "\n",
        "Utilizando el diagrama de pares de Seaborn revisamos la correlación entre las variables\n",
        "\n",
        "* Sin correlación entre los campos como se ve en el diagrama de pares"
      ]
    },
    {
      "cell_type": "code",
      "metadata": {
        "id": "26KSZ2487mak"
      },
      "source": [
        "#sns.pairplot(data)"
      ],
      "execution_count": 985,
      "outputs": []
    },
    {
      "cell_type": "markdown",
      "metadata": {
        "id": "HA6EuvzL8MCc"
      },
      "source": [
        "* Recuento de la variable objetivo"
      ]
    },
    {
      "cell_type": "code",
      "metadata": {
        "colab": {
          "base_uri": "https://localhost:8080/"
        },
        "id": "0NXCUvme8MmZ",
        "outputId": "1503f5bb-90a3-4482-f43d-b6fd76f5089a"
      },
      "source": [
        "from collections import Counter\n",
        "Counter(data['quality'])"
      ],
      "execution_count": 986,
      "outputs": [
        {
          "output_type": "execute_result",
          "data": {
            "text/plain": [
              "Counter({3: 10, 4: 53, 5: 681, 6: 638, 7: 199, 8: 18})"
            ]
          },
          "metadata": {},
          "execution_count": 986
        }
      ]
    },
    {
      "cell_type": "markdown",
      "metadata": {
        "id": "d47QjGKE8XSX"
      },
      "source": [
        "* Grafica de la variable de Objetivo"
      ]
    },
    {
      "cell_type": "code",
      "metadata": {
        "colab": {
          "base_uri": "https://localhost:8080/",
          "height": 296
        },
        "id": "YfjTwmmn8Tkz",
        "outputId": "9b85a86f-e8f8-467c-fd20-a70074b497de"
      },
      "source": [
        "sns.countplot(x='quality', data=data)"
      ],
      "execution_count": 987,
      "outputs": [
        {
          "output_type": "execute_result",
          "data": {
            "text/plain": [
              "<matplotlib.axes._subplots.AxesSubplot at 0x7f6391035a90>"
            ]
          },
          "metadata": {},
          "execution_count": 987
        },
        {
          "output_type": "display_data",
          "data": {
            "image/png": "[encoded data removed]",
            "text/plain": [
              "<Figure size 432x288 with 1 Axes>"
            ]
          },
          "metadata": {
            "needs_background": "light"
          }
        }
      ]
    },
    {
      "cell_type": "markdown",
      "metadata": {
        "id": "rX1B_nxq8hu8"
      },
      "source": [
        "# Histograma, un gráfico Q-Q plot y boxplot\n",
        "\n",
        "* La variable de Objetivo es Calidad.\n",
        "* Entonces realizare histograma, un gráfico Q-Q plot de las columnas\n",
        "* y un boxplot de cada columna contra la variable Objetivo del dataset"
      ]
    },
    {
      "cell_type": "code",
      "metadata": {
        "id": "SaAVF6Kad5vH"
      },
      "source": [
        "def diagnostic_plots(df, variable):\n",
        "\n",
        "    # tamaño gráfica\n",
        "    plt.figure(figsize=(16, 4))\n",
        "\n",
        "    # histograma\n",
        "    plt.subplot(1, 3, 1)\n",
        "    sns.distplot(df[variable], bins=30)\n",
        "    plt.title('Histogram')\n",
        "\n",
        "    # gráfica Q-Q \n",
        "    plt.subplot(1, 3, 2)\n",
        "    stats.probplot(df[variable], dist=\"norm\", plot=pylab)\n",
        "    plt.ylabel('quantiles')\n",
        "\n",
        "    # diagrama de caja\n",
        "    plt.subplot(1, 3, 3)\n",
        "    sns.boxplot('quality', y=df[variable], data = data)\n",
        "    plt.title('Boxplot')\n",
        "\n",
        "    plt.show()"
      ],
      "execution_count": 988,
      "outputs": []
    },
    {
      "cell_type": "code",
      "metadata": {
        "colab": {
          "base_uri": "https://localhost:8080/",
          "height": 1000
        },
        "id": "I7NR03BYWoHY",
        "outputId": "eb458ba2-c51e-4872-de9e-dbe515bcfb87"
      },
      "source": [
        "## https://www.youtube.com/watch?v=m_no9B42878\n",
        "## ¿Cómo hacer varias gráficas en una sola ventana? | Subplot |Matplotlib | Python | ¡Muy Básico!\n",
        "\n",
        "ncomp = ['fixed acidity', 'volatile acidity','citric acid','residual sugar','chlorides','free sulfur dioxide','total sulfur dioxide','density','pH','sulphates', 'alcohol']\n",
        "plt.figure(figsize=(30,90))\n",
        "\n",
        "for x in range(len(ncomp)):\n",
        "  h=diagnostic_plots(data, ncomp[x])\n",
        "\n"
      ],
      "execution_count": 989,
      "outputs": [
        {
          "output_type": "display_data",
          "data": {
            "text/plain": [
              "<Figure size 2160x6480 with 0 Axes>"
            ]
          },
          "metadata": {}
        },
        {
          "output_type": "display_data",
          "data": {
            "image/png": "[encoded data removed]",
            "text/plain": [
              "<Figure size 1152x288 with 3 Axes>"
            ]
          },
          "metadata": {
            "needs_background": "light"
          }
        },
        {
          "output_type": "display_data",
          "data": {
            "image/png": "[encoded data removed]",
            "text/plain": [
              "<Figure size 1152x288 with 3 Axes>"
            ]
          },
          "metadata": {
            "needs_background": "light"
          }
        },
        {
          "output_type": "display_data",
          "data": {
            "image/png": "[encoded data removed]",
            "text/plain": [
              "<Figure size 1152x288 with 3 Axes>"
            ]
          },
          "metadata": {
            "needs_background": "light"
          }
        },
        {
          "output_type": "display_data",
          "data": {
            "image/png": "[encoded data removed]",
            "text/plain": [
              "<Figure size 1152x288 with 3 Axes>"
            ]
          },
          "metadata": {
            "needs_background": "light"
          }
        },
        {
          "output_type": "display_data",
          "data": {
            "image/png": "[encoded data removed]",
            "text/plain": [
              "<Figure size 1152x288 with 3 Axes>"
            ]
          },
          "metadata": {
            "needs_background": "light"
          }
        },
        {
          "output_type": "display_data",
          "data": {
            "image/png": "[encoded data removed]",
            "text/plain": [
              "<Figure size 1152x288 with 3 Axes>"
            ]
          },
          "metadata": {
            "needs_background": "light"
          }
        },
        {
          "output_type": "display_data",
          "data": {
            "image/png": "[encoded data removed]",
            "text/plain": [
              "<Figure size 1152x288 with 3 Axes>"
            ]
          },
          "metadata": {
            "needs_background": "light"
          }
        },
        {
          "output_type": "display_data",
          "data": {
            "image/png": "[encoded data removed]",
            "text/plain": [
              "<Figure size 1152x288 with 3 Axes>"
            ]
          },
          "metadata": {
            "needs_background": "light"
          }
        },
        {
          "output_type": "display_data",
          "data": {
            "image/png": "[encoded data removed]",
            "text/plain": [
              "<Figure size 1152x288 with 3 Axes>"
            ]
          },
          "metadata": {
            "needs_background": "light"
          }
        },
        {
          "output_type": "display_data",
          "data": {
            "image/png": "[encoded data removed]",
            "text/plain": [
              "<Figure size 1152x288 with 3 Axes>"
            ]
          },
          "metadata": {
            "needs_background": "light"
          }
        },
        {
          "output_type": "display_data",
          "data": {
            "image/png": "[encoded data removed]",
            "text/plain": [
              "<Figure size 1152x288 with 3 Axes>"
            ]
          },
          "metadata": {
            "needs_background": "light"
          }
        }
      ]
    },
    {
      "cell_type": "markdown",
      "metadata": {
        "id": "KgMI9CtQ9ImV"
      },
      "source": [
        "# 2.1 Identificar los Outliers"
      ]
    },
    {
      "cell_type": "code",
      "metadata": {
        "id": "ebTAqMl3dBmK"
      },
      "source": [
        "def find_skewed_boundaries(df, variable, distance):\n",
        "\n",
        "    # Calcular los límites para los valores extremos\n",
        "\n",
        "    # distance es un argumento de la función que da la opción de \n",
        "    # estimar 1.5 o 3 veces el IQR para calcular los límites\n",
        "\n",
        "    IQR = df[variable].quantile(0.75) - df[variable].quantile(0.25)\n",
        "\n",
        "    lower_boundary = df[variable].quantile(0.25) - (IQR * distance)\n",
        "    upper_boundary = df[variable].quantile(0.75) + (IQR * distance)\n",
        "\n",
        "    return upper_boundary, lower_boundary"
      ],
      "execution_count": 990,
      "outputs": []
    },
    {
      "cell_type": "markdown",
      "metadata": {
        "id": "l4ZFhIMzhAI6"
      },
      "source": [
        "---\n",
        "Considerar outliers o valores atípicos de **fixed acidity**\n",
        "* Valores mayores a 12.34\n",
        "* Valores menores a 3.95"
      ]
    },
    {
      "cell_type": "code",
      "metadata": {
        "id": "r14YAHdwgH8o",
        "colab": {
          "base_uri": "https://localhost:8080/"
        },
        "outputId": "b88de8e6-777d-437a-829d-5ff70ba953cf"
      },
      "source": [
        "upper_boundary, lower_boundary = find_skewed_boundaries(data, 'fixed acidity', 1.5)\n",
        "upper_boundary, lower_boundary"
      ],
      "execution_count": 991,
      "outputs": [
        {
          "output_type": "execute_result",
          "data": {
            "text/plain": [
              "(12.349999999999998, 3.95)"
            ]
          },
          "metadata": {},
          "execution_count": 991
        }
      ]
    },
    {
      "cell_type": "code",
      "metadata": {
        "id": "ngWrIYXJiY8K",
        "colab": {
          "base_uri": "https://localhost:8080/"
        },
        "outputId": "c7742c24-567b-4de2-ed98-00ee8910c9f4"
      },
      "source": [
        "print('Número de vinos: {}'.format(len(data)))\n",
        "\n",
        "print('fixed acidity de 12.34 (extremo derecho de los valores atípicos): {}'.format(\n",
        "    len(data[data['fixed acidity'] > upper_boundary])))\n",
        "\n",
        "print('fixed acidity de 3.95 (extremo izquierdo de los valores atípicos): {}'.format(\n",
        "    len(data[data['fixed acidity'] < lower_boundary])))\n",
        "print()\n",
        "print('% extremo derecho de los valores atípicos: {}'.format(\n",
        "    len(data[data['fixed acidity'] > upper_boundary]) / len(data)))\n",
        "\n",
        "print('% extremo izquierdo de los valores atípicos: {}'.format(\n",
        "    len(data[data['fixed acidity'] < lower_boundary]) / len(data)))"
      ],
      "execution_count": 992,
      "outputs": [
        {
          "output_type": "stream",
          "name": "stdout",
          "text": [
            "Número de vinos: 1599\n",
            "fixed acidity de 12.34 (extremo derecho de los valores atípicos): 49\n",
            "fixed acidity de 3.95 (extremo izquierdo de los valores atípicos): 0\n",
            "\n",
            "% extremo derecho de los valores atípicos: 0.030644152595372107\n",
            "% extremo izquierdo de los valores atípicos: 0.0\n"
          ]
        }
      ]
    },
    {
      "cell_type": "markdown",
      "metadata": {
        "id": "WJ-TkbhHhNMF"
      },
      "source": [
        "---\n",
        "Considerar outliers o valores atípicos de **volatile acidity**\n",
        "* Valores mayores a 1.015\n",
        "* Valores menores a 0.015"
      ]
    },
    {
      "cell_type": "code",
      "metadata": {
        "id": "k-D9mO45gQHq",
        "colab": {
          "base_uri": "https://localhost:8080/"
        },
        "outputId": "f54ea805-ef2e-4d54-fdad-9e95473848f1"
      },
      "source": [
        "upper_boundary, lower_boundary = find_skewed_boundaries(data, 'volatile acidity', 1.5)\n",
        "upper_boundary, lower_boundary"
      ],
      "execution_count": 993,
      "outputs": [
        {
          "output_type": "execute_result",
          "data": {
            "text/plain": [
              "(1.0150000000000001, 0.015000000000000013)"
            ]
          },
          "metadata": {},
          "execution_count": 993
        }
      ]
    },
    {
      "cell_type": "code",
      "metadata": {
        "id": "Khqzybd2i-qE",
        "colab": {
          "base_uri": "https://localhost:8080/"
        },
        "outputId": "8b5f4018-26a9-4d1d-a42b-ad94d61a7790"
      },
      "source": [
        "print('Número de vinos: {}'.format(len(data)))\n",
        "\n",
        "print('acidez volátil de 1.06 (extremo derecho de los valores atípicos): {}'.format(\n",
        "    len(data[data['volatile acidity'] > upper_boundary])))\n",
        "\n",
        "print('acidez volátil de 1.06 (extremo izquierdo de los valores atípicos): {}'.format(\n",
        "    len(data[data['volatile acidity'] < lower_boundary])))\n",
        "print()\n",
        "print('% extremo derecho de los valores atípicos: {}'.format(\n",
        "    len(data[data['volatile acidity'] > upper_boundary]) / len(data)))\n",
        "\n",
        "print('% extremo izquierdo de los valores atípicos: {}'.format(\n",
        "    len(data[data['volatile acidity'] < lower_boundary]) / len(data)))"
      ],
      "execution_count": 994,
      "outputs": [
        {
          "output_type": "stream",
          "name": "stdout",
          "text": [
            "Número de vinos: 1599\n",
            "acidez volátil de 1.06 (extremo derecho de los valores atípicos): 19\n",
            "acidez volátil de 1.06 (extremo izquierdo de los valores atípicos): 0\n",
            "\n",
            "% extremo derecho de los valores atípicos: 0.011882426516572859\n",
            "% extremo izquierdo de los valores atípicos: 0.0\n"
          ]
        }
      ]
    },
    {
      "cell_type": "markdown",
      "metadata": {
        "id": "HKn4SghvhW4K"
      },
      "source": [
        "---\n",
        "Considerar outliers o valores atípicos de **citric acid**\n",
        "* Valores mayores a 0.914\n",
        "* Valores menores a 0"
      ]
    },
    {
      "cell_type": "code",
      "metadata": {
        "id": "qY66kO9vgUPh",
        "colab": {
          "base_uri": "https://localhost:8080/"
        },
        "outputId": "ee4e2873-540c-4b55-863b-b7135beccaf5"
      },
      "source": [
        "upper_boundary, lower_boundary = find_skewed_boundaries(data, 'citric acid', 1.5)\n",
        "upper_boundary, lower_boundary"
      ],
      "execution_count": 995,
      "outputs": [
        {
          "output_type": "execute_result",
          "data": {
            "text/plain": [
              "(0.9149999999999999, -0.4049999999999999)"
            ]
          },
          "metadata": {},
          "execution_count": 995
        }
      ]
    },
    {
      "cell_type": "code",
      "metadata": {
        "id": "EBHsVbPCjh8M",
        "colab": {
          "base_uri": "https://localhost:8080/"
        },
        "outputId": "ee670e0e-a634-49d1-9d67-3cf63f0bb9ea"
      },
      "source": [
        "print('Número de vinos: {}'.format(len(data)))\n",
        "\n",
        "print('ácido cítrico de 0.8 (extremo derecho de los valores atípicos): {}'.format(\n",
        "    len(data[data['citric acid'] > upper_boundary])))\n",
        "\n",
        "print('ácido cítrico de 1.06 (extremo izquierdo de los valores atípicos): {}'.format(\n",
        "    len(data[data['citric acid'] < lower_boundary])))\n",
        "print()\n",
        "print('% extremo derecho de los valores atípicos: {}'.format(\n",
        "    len(data[data['citric acid'] > upper_boundary]) / len(data)))\n",
        "\n",
        "print('% extremo izquierdo de los valores atípicos: {}'.format(\n",
        "    len(data[data['citric acid'] < lower_boundary]) / len(data)))"
      ],
      "execution_count": 996,
      "outputs": [
        {
          "output_type": "stream",
          "name": "stdout",
          "text": [
            "Número de vinos: 1599\n",
            "ácido cítrico de 0.8 (extremo derecho de los valores atípicos): 1\n",
            "ácido cítrico de 1.06 (extremo izquierdo de los valores atípicos): 0\n",
            "\n",
            "% extremo derecho de los valores atípicos: 0.0006253908692933083\n",
            "% extremo izquierdo de los valores atípicos: 0.0\n"
          ]
        }
      ]
    },
    {
      "cell_type": "markdown",
      "metadata": {
        "id": "UE1h0cQYhYPz"
      },
      "source": [
        "---\n",
        "Considerar outliers o valores atípicos de **residual sugar**\n",
        "* Valores mayores a 3.65\n",
        "* Valores menores a 0.8499"
      ]
    },
    {
      "cell_type": "code",
      "metadata": {
        "id": "WO1-eEWQgW5R",
        "colab": {
          "base_uri": "https://localhost:8080/"
        },
        "outputId": "96bdb422-3f60-41fb-d292-80e21a70ff8f"
      },
      "source": [
        "upper_boundary, lower_boundary = find_skewed_boundaries(data, 'residual sugar', 1.5)\n",
        "upper_boundary, lower_boundary"
      ],
      "execution_count": 997,
      "outputs": [
        {
          "output_type": "execute_result",
          "data": {
            "text/plain": [
              "(3.6500000000000004, 0.8499999999999996)"
            ]
          },
          "metadata": {},
          "execution_count": 997
        }
      ]
    },
    {
      "cell_type": "code",
      "metadata": {
        "id": "MeqzfE1nkIxU",
        "colab": {
          "base_uri": "https://localhost:8080/"
        },
        "outputId": "4eea3235-e453-41c5-f9aa-d9563f9f7bca"
      },
      "source": [
        "print('Número de vinos: {}'.format(len(data)))\n",
        "\n",
        "print('azúcar residual de 3.65 (extremo derecho de los valores atípicos): {}'.format(\n",
        "    len(data[data['residual sugar'] > upper_boundary])))\n",
        "\n",
        "print('azúcar residual de 0.8499 (extremo izquierdo de los valores atípicos): {}'.format(\n",
        "    len(data[data['residual sugar'] < lower_boundary])))\n",
        "print()\n",
        "print('% extremo derecho de los valores atípicos: {}'.format(\n",
        "    len(data[data['residual sugar'] > upper_boundary]) / len(data)))\n",
        "\n",
        "print('% extremo izquierdo de los valores atípicos: {}'.format(\n",
        "    len(data[data['residual sugar'] < lower_boundary]) / len(data)))"
      ],
      "execution_count": 998,
      "outputs": [
        {
          "output_type": "stream",
          "name": "stdout",
          "text": [
            "Número de vinos: 1599\n",
            "azúcar residual de 3.65 (extremo derecho de los valores atípicos): 155\n",
            "azúcar residual de 0.8499 (extremo izquierdo de los valores atípicos): 0\n",
            "\n",
            "% extremo derecho de los valores atípicos: 0.0969355847404628\n",
            "% extremo izquierdo de los valores atípicos: 0.0\n"
          ]
        }
      ]
    },
    {
      "cell_type": "markdown",
      "metadata": {
        "id": "rgJzSDpDhZjj"
      },
      "source": [
        "---\n",
        "Considerar outliers o valores atípicos de **chlorides**\n",
        "* Valores mayores a 0.119\n",
        "* Valores menores a 0.04"
      ]
    },
    {
      "cell_type": "code",
      "metadata": {
        "id": "MXiMNqcTgYaL",
        "colab": {
          "base_uri": "https://localhost:8080/"
        },
        "outputId": "cc8d24d8-2e40-4033-9824-d5303aeaf2dd"
      },
      "source": [
        "upper_boundary, lower_boundary = find_skewed_boundaries(data, 'chlorides', 1.5)\n",
        "upper_boundary, lower_boundary"
      ],
      "execution_count": 999,
      "outputs": [
        {
          "output_type": "execute_result",
          "data": {
            "text/plain": [
              "(0.11999999999999998, 0.04000000000000002)"
            ]
          },
          "metadata": {},
          "execution_count": 999
        }
      ]
    },
    {
      "cell_type": "code",
      "metadata": {
        "id": "N9qGRHrHk80s",
        "colab": {
          "base_uri": "https://localhost:8080/"
        },
        "outputId": "65fcd33d-4f3a-45e1-9b7b-f65e5cfdbb6d"
      },
      "source": [
        "print('Número de vinos: {}'.format(len(data)))\n",
        "\n",
        "print('cloruros de 0.119 (extremo derecho de los valores atípicos): {}'.format(\n",
        "    len(data[data['chlorides'] > upper_boundary])))\n",
        "\n",
        "print('cloruros de 0.04 (extremo izquierdo de los valores atípicos): {}'.format(\n",
        "    len(data[data['chlorides'] < lower_boundary])))\n",
        "print()\n",
        "print('% extremo derecho de los valores atípicos: {}'.format(\n",
        "    len(data[data['chlorides'] > upper_boundary]) / len(data)))\n",
        "\n",
        "print('% extremo izquierdo de los valores atípicos: {}'.format(\n",
        "    len(data[data['chlorides'] < lower_boundary]) / len(data)))"
      ],
      "execution_count": 1000,
      "outputs": [
        {
          "output_type": "stream",
          "name": "stdout",
          "text": [
            "Número de vinos: 1599\n",
            "cloruros de 0.119 (extremo derecho de los valores atípicos): 103\n",
            "cloruros de 0.04 (extremo izquierdo de los valores atípicos): 9\n",
            "\n",
            "% extremo derecho de los valores atípicos: 0.06441525953721075\n",
            "% extremo izquierdo de los valores atípicos: 0.005628517823639775\n"
          ]
        }
      ]
    },
    {
      "cell_type": "markdown",
      "metadata": {
        "id": "9FczGBI4hbFR"
      },
      "source": [
        "---\n",
        "Considerar outliers o valores atípicos de **free sulfur dioxide**\n",
        "* Valores mayores a 42\n",
        "* Valores menores a 0"
      ]
    },
    {
      "cell_type": "code",
      "metadata": {
        "id": "n-gs_dk4gY4Q",
        "colab": {
          "base_uri": "https://localhost:8080/"
        },
        "outputId": "5e659016-5b92-4809-dad7-35379b6227cb"
      },
      "source": [
        "upper_boundary, lower_boundary = find_skewed_boundaries(data, 'free sulfur dioxide', 1.5)\n",
        "upper_boundary, lower_boundary"
      ],
      "execution_count": 1001,
      "outputs": [
        {
          "output_type": "execute_result",
          "data": {
            "text/plain": [
              "(42.0, -14.0)"
            ]
          },
          "metadata": {},
          "execution_count": 1001
        }
      ]
    },
    {
      "cell_type": "code",
      "metadata": {
        "id": "Fq2tlLJFngf2",
        "colab": {
          "base_uri": "https://localhost:8080/"
        },
        "outputId": "9178410c-9cd2-4d60-8f53-c179de3cc78c"
      },
      "source": [
        "print('Número de vinos: {}'.format(len(data)))\n",
        "\n",
        "print('free sulfur dioxide de 42 (extremo derecho de los valores atípicos): {}'.format(\n",
        "    len(data[data['free sulfur dioxide'] > upper_boundary])))\n",
        "\n",
        "print('free sulfur dioxide de 0 (extremo izquierdo de los valores atípicos): {}'.format(\n",
        "    len(data[data['free sulfur dioxide'] < lower_boundary])))\n",
        "print()\n",
        "print('% extremo derecho de los valores atípicos: {}'.format(\n",
        "    len(data[data['free sulfur dioxide'] > upper_boundary]) / len(data)))\n",
        "\n",
        "print('% extremo izquierdo de los valores atípicos: {}'.format(\n",
        "    len(data[data['free sulfur dioxide'] < lower_boundary]) / len(data)))"
      ],
      "execution_count": 1002,
      "outputs": [
        {
          "output_type": "stream",
          "name": "stdout",
          "text": [
            "Número de vinos: 1599\n",
            "free sulfur dioxide de 42 (extremo derecho de los valores atípicos): 30\n",
            "free sulfur dioxide de 0 (extremo izquierdo de los valores atípicos): 0\n",
            "\n",
            "% extremo derecho de los valores atípicos: 0.01876172607879925\n",
            "% extremo izquierdo de los valores atípicos: 0.0\n"
          ]
        }
      ]
    },
    {
      "cell_type": "markdown",
      "metadata": {
        "id": "hb8VZFt-h3Vt"
      },
      "source": [
        "---\n",
        "Considerar outliers o valores atípicos de **total sulfur dioxide**\n",
        "* Valores mayores a 122\n",
        "* Valores menores a 0"
      ]
    },
    {
      "cell_type": "code",
      "metadata": {
        "id": "NagPWi2agajy",
        "colab": {
          "base_uri": "https://localhost:8080/"
        },
        "outputId": "ab88edbf-d4f5-4d59-dea6-3db5480d8060"
      },
      "source": [
        "upper_boundary, lower_boundary = find_skewed_boundaries(data, 'total sulfur dioxide', 1.5)\n",
        "upper_boundary, lower_boundary"
      ],
      "execution_count": 1003,
      "outputs": [
        {
          "output_type": "execute_result",
          "data": {
            "text/plain": [
              "(122.0, -38.0)"
            ]
          },
          "metadata": {},
          "execution_count": 1003
        }
      ]
    },
    {
      "cell_type": "code",
      "metadata": {
        "id": "S5R4S_WDnhcR",
        "colab": {
          "base_uri": "https://localhost:8080/"
        },
        "outputId": "8d6f4244-6832-4028-d3e5-ebc23859679c"
      },
      "source": [
        "print('Número de vinos: {}'.format(len(data)))\n",
        "\n",
        "print('total sulfur dioxide de 122 (extremo derecho de los valores atípicos): {}'.format(\n",
        "    len(data[data['total sulfur dioxide'] > upper_boundary])))\n",
        "\n",
        "print('total sulfur dioxide de 0 (extremo izquierdo de los valores atípicos): {}'.format(\n",
        "    len(data[data['total sulfur dioxide'] < lower_boundary])))\n",
        "print()\n",
        "print('% extremo derecho de los valores atípicos: {}'.format(\n",
        "    len(data[data['total sulfur dioxide'] > upper_boundary]) / len(data)))\n",
        "\n",
        "print('% extremo izquierdo de los valores atípicos: {}'.format(\n",
        "    len(data[data['total sulfur dioxide'] < lower_boundary]) / len(data)))"
      ],
      "execution_count": 1004,
      "outputs": [
        {
          "output_type": "stream",
          "name": "stdout",
          "text": [
            "Número de vinos: 1599\n",
            "total sulfur dioxide de 122 (extremo derecho de los valores atípicos): 55\n",
            "total sulfur dioxide de 0 (extremo izquierdo de los valores atípicos): 0\n",
            "\n",
            "% extremo derecho de los valores atípicos: 0.03439649781113196\n",
            "% extremo izquierdo de los valores atípicos: 0.0\n"
          ]
        }
      ]
    },
    {
      "cell_type": "markdown",
      "metadata": {
        "id": "PZgXsJJfhcFp"
      },
      "source": [
        "---\n",
        "Considerar outliers o valores atípicos de **density**\n",
        "* Valores mayores a 1\n",
        "* Valores menores a 0.99"
      ]
    },
    {
      "cell_type": "code",
      "metadata": {
        "id": "xaokAk8oga3q",
        "colab": {
          "base_uri": "https://localhost:8080/"
        },
        "outputId": "19102e01-7f3f-43c2-e21b-0487a245d1d2"
      },
      "source": [
        "upper_boundary, lower_boundary = find_skewed_boundaries(data, 'density', 1.5)\n",
        "upper_boundary, lower_boundary"
      ],
      "execution_count": 1005,
      "outputs": [
        {
          "output_type": "execute_result",
          "data": {
            "text/plain": [
              "(1.0011874999999997, 0.9922475000000002)"
            ]
          },
          "metadata": {},
          "execution_count": 1005
        }
      ]
    },
    {
      "cell_type": "code",
      "metadata": {
        "id": "xRNqKqdCniYg",
        "colab": {
          "base_uri": "https://localhost:8080/"
        },
        "outputId": "7a4587bc-29bb-4989-dc78-4ab438ef2c4c"
      },
      "source": [
        "print('Número de vinos: {}'.format(len(data)))\n",
        "\n",
        "print('density de 1 (extremo derecho de los valores atípicos): {}'.format(\n",
        "    len(data[data['density'] > upper_boundary])))\n",
        "\n",
        "print('density de 0.99 (extremo izquierdo de los valores atípicos): {}'.format(\n",
        "    len(data[data['density'] < lower_boundary])))\n",
        "print()\n",
        "print('% extremo derecho de los valores atípicos: {}'.format(\n",
        "    len(data[data['density'] > upper_boundary]) / len(data)))\n",
        "\n",
        "print('% extremo izquierdo de los valores atípicos: {}'.format(\n",
        "    len(data[data['density'] < lower_boundary]) / len(data)))"
      ],
      "execution_count": 1006,
      "outputs": [
        {
          "output_type": "stream",
          "name": "stdout",
          "text": [
            "Número de vinos: 1599\n",
            "density de 1 (extremo derecho de los valores atípicos): 24\n",
            "density de 0.99 (extremo izquierdo de los valores atípicos): 21\n",
            "\n",
            "% extremo derecho de los valores atípicos: 0.0150093808630394\n",
            "% extremo izquierdo de los valores atípicos: 0.013133208255159476\n"
          ]
        }
      ]
    },
    {
      "cell_type": "markdown",
      "metadata": {
        "id": "VNVANN5ghdBC"
      },
      "source": [
        "---\n",
        "Considerar outliers o valores atípicos de **pH**\n",
        "* Valores mayores a 3.684\n",
        "* Valores menores a 2.925"
      ]
    },
    {
      "cell_type": "code",
      "metadata": {
        "id": "H3c43kAAgbIL",
        "colab": {
          "base_uri": "https://localhost:8080/"
        },
        "outputId": "4e1039c9-00bd-4378-b7f9-2826f21bdfd8"
      },
      "source": [
        "upper_boundary, lower_boundary = find_skewed_boundaries(data, 'pH', 1.5)\n",
        "upper_boundary, lower_boundary"
      ],
      "execution_count": 1007,
      "outputs": [
        {
          "output_type": "execute_result",
          "data": {
            "text/plain": [
              "(3.6849999999999996, 2.925)"
            ]
          },
          "metadata": {},
          "execution_count": 1007
        }
      ]
    },
    {
      "cell_type": "code",
      "metadata": {
        "id": "DBSyeE5UnjXf",
        "colab": {
          "base_uri": "https://localhost:8080/"
        },
        "outputId": "155b5934-a1ef-489c-fd13-188409cca295"
      },
      "source": [
        "print('Número de vinos: {}'.format(len(data)))\n",
        "\n",
        "print('pH de 3.684 (extremo derecho de los valores atípicos): {}'.format(\n",
        "    len(data[data['pH'] > upper_boundary])))\n",
        "\n",
        "print('pH de 2.925 (extremo izquierdo de los valores atípicos): {}'.format(\n",
        "    len(data[data['pH'] < lower_boundary])))\n",
        "print()\n",
        "print('% extremo derecho de los valores atípicos: {}'.format(\n",
        "    len(data[data['pH'] > upper_boundary]) / len(data)))\n",
        "\n",
        "print('% extremo izquierdo de los valores atípicos: {}'.format(\n",
        "    len(data[data['pH'] < lower_boundary]) / len(data)))"
      ],
      "execution_count": 1008,
      "outputs": [
        {
          "output_type": "stream",
          "name": "stdout",
          "text": [
            "Número de vinos: 1599\n",
            "pH de 3.684 (extremo derecho de los valores atípicos): 21\n",
            "pH de 2.925 (extremo izquierdo de los valores atípicos): 14\n",
            "\n",
            "% extremo derecho de los valores atípicos: 0.013133208255159476\n",
            "% extremo izquierdo de los valores atípicos: 0.008755472170106316\n"
          ]
        }
      ]
    },
    {
      "cell_type": "markdown",
      "metadata": {
        "id": "6ELjVcMdhekJ"
      },
      "source": [
        "---\n",
        "Considerar outliers o valores atípicos de **sulphates**\n",
        "* Valores mayores a 0.999\n",
        "* Valores menores a 0.28"
      ]
    },
    {
      "cell_type": "code",
      "metadata": {
        "id": "iL5VBPeggbX0",
        "colab": {
          "base_uri": "https://localhost:8080/"
        },
        "outputId": "89426ed9-cf9f-4523-91c8-c70317e41a15"
      },
      "source": [
        "upper_boundary, lower_boundary = find_skewed_boundaries(data, 'sulphates', 1.5)\n",
        "upper_boundary, lower_boundary"
      ],
      "execution_count": 1009,
      "outputs": [
        {
          "output_type": "execute_result",
          "data": {
            "text/plain": [
              "(0.9999999999999999, 0.28000000000000014)"
            ]
          },
          "metadata": {},
          "execution_count": 1009
        }
      ]
    },
    {
      "cell_type": "code",
      "metadata": {
        "id": "YUx2glkXnkQH",
        "colab": {
          "base_uri": "https://localhost:8080/"
        },
        "outputId": "0e7e2cb8-1061-4095-c01d-5079dfd8e989"
      },
      "source": [
        "print('Número de vinos: {}'.format(len(data)))\n",
        "\n",
        "print('sulphates de 0.999 (extremo derecho de los valores atípicos): {}'.format(\n",
        "    len(data[data['sulphates'] > upper_boundary])))\n",
        "\n",
        "print('sulphates de 0.28 (extremo izquierdo de los valores atípicos): {}'.format(\n",
        "    len(data[data['sulphates'] < lower_boundary])))\n",
        "print()\n",
        "print('% extremo derecho de los valores atípicos: {}'.format(\n",
        "    len(data[data['sulphates'] > upper_boundary]) / len(data)))\n",
        "\n",
        "print('% extremo izquierdo de los valores atípicos: {}'.format(\n",
        "    len(data[data['sulphates'] < lower_boundary]) / len(data)))"
      ],
      "execution_count": 1010,
      "outputs": [
        {
          "output_type": "stream",
          "name": "stdout",
          "text": [
            "Número de vinos: 1599\n",
            "sulphates de 0.999 (extremo derecho de los valores atípicos): 59\n",
            "sulphates de 0.28 (extremo izquierdo de los valores atípicos): 0\n",
            "\n",
            "% extremo derecho de los valores atípicos: 0.03689806128830519\n",
            "% extremo izquierdo de los valores atípicos: 0.0\n"
          ]
        }
      ]
    },
    {
      "cell_type": "markdown",
      "metadata": {
        "id": "eheuDws6hfTz"
      },
      "source": [
        "---\n",
        "Considerar outliers o valores atípicos de **alcohol**\n",
        "* Valores mayores a 13.5\n",
        "* Valores menores a 7.1"
      ]
    },
    {
      "cell_type": "code",
      "metadata": {
        "id": "sLmR1bZigboB",
        "colab": {
          "base_uri": "https://localhost:8080/"
        },
        "outputId": "30e99f3e-9251-4b0b-ad52-780957e7af60"
      },
      "source": [
        "upper_boundary, lower_boundary = find_skewed_boundaries(data, 'alcohol', 1.5)\n",
        "upper_boundary, lower_boundary"
      ],
      "execution_count": 1011,
      "outputs": [
        {
          "output_type": "execute_result",
          "data": {
            "text/plain": [
              "(13.5, 7.1000000000000005)"
            ]
          },
          "metadata": {},
          "execution_count": 1011
        }
      ]
    },
    {
      "cell_type": "code",
      "metadata": {
        "id": "zHJhCk4onlaI",
        "colab": {
          "base_uri": "https://localhost:8080/"
        },
        "outputId": "ee8b6c50-666b-462b-86d6-faa3e48e449c"
      },
      "source": [
        "print('Número de vinos: {}'.format(len(data)))\n",
        "\n",
        "print('alcohol de 13.5 (extremo derecho de los valores atípicos): {}'.format(\n",
        "    len(data[data['alcohol'] > upper_boundary])))\n",
        "\n",
        "print('alcohol de 7.1 (extremo izquierdo de los valores atípicos): {}'.format(\n",
        "    len(data[data['alcohol'] < lower_boundary])))\n",
        "print()\n",
        "print('% extremo derecho de los valores atípicos: {}'.format(\n",
        "    len(data[data['alcohol'] > upper_boundary]) / len(data)))\n",
        "\n",
        "print('% extremo izquierdo de los valores atípicos: {}'.format(\n",
        "    len(data[data['alcohol'] < lower_boundary]) / len(data)))"
      ],
      "execution_count": 1012,
      "outputs": [
        {
          "output_type": "stream",
          "name": "stdout",
          "text": [
            "Número de vinos: 1599\n",
            "alcohol de 13.5 (extremo derecho de los valores atípicos): 13\n",
            "alcohol de 7.1 (extremo izquierdo de los valores atípicos): 0\n",
            "\n",
            "% extremo derecho de los valores atípicos: 0.008130081300813009\n",
            "% extremo izquierdo de los valores atípicos: 0.0\n"
          ]
        }
      ]
    },
    {
      "cell_type": "markdown",
      "metadata": {
        "id": "OpdjNo98nmbv"
      },
      "source": [
        "# 2.2 Conclusion Analisis Outliers"
      ]
    },
    {
      "cell_type": "code",
      "metadata": {
        "id": "ySaK_s6durqw",
        "colab": {
          "base_uri": "https://localhost:8080/",
          "height": 394
        },
        "outputId": "9ad98631-ffc0-47df-a5d5-6ccd03dce7ee"
      },
      "source": [
        "outliers = pd.DataFrame({\n",
        "    'Componentes' : ['fixed acidity', 'volatile acidity', 'citric acid', 'residual sugar', 'chlorides', 'free sulfur dioxide','total sulfur dioxide','density','pH','sulphates','alcohol'],\n",
        "    '% de Extremo Derecho' : [0.03*100, 0.0118*100, 0.00062*100, 0.096*100 , 0.064*100, 0.018*100, 0.03*100, 0.015*100, 0.013*100, 0.03*100, 0.008*100],\n",
        "    '% de Extremo Izquierdo' : [0, 0, 0, 0, 0.005*100, 0, 0, 0.013*100, 0.008*100, 0, 0]\n",
        "})\n",
        "\n",
        "\n",
        "#outliers.sort_values(by = '% de Extremo Derecho', ascending = False)\n",
        "outliers"
      ],
      "execution_count": 1013,
      "outputs": [
        {
          "output_type": "execute_result",
          "data": {
            "text/html": [
              "<div>\n",
              "<style scoped>\n",
              "    .dataframe tbody tr th:only-of-type {\n",
              "        vertical-align: middle;\n",
              "    }\n",
              "\n",
              "    .dataframe tbody tr th {\n",
              "        vertical-align: top;\n",
              "    }\n",
              "\n",
              "    .dataframe thead th {\n",
              "        text-align: right;\n",
              "    }\n",
              "</style>\n",
              "<table border=\"1\" class=\"dataframe\">\n",
              "  <thead>\n",
              "    <tr style=\"text-align: right;\">\n",
              "      <th></th>\n",
              "      <th>Componentes</th>\n",
              "      <th>% de Extremo Derecho</th>\n",
              "      <th>% de Extremo Izquierdo</th>\n",
              "    </tr>\n",
              "  </thead>\n",
              "  <tbody>\n",
              "    <tr>\n",
              "      <th>0</th>\n",
              "      <td>fixed acidity</td>\n",
              "      <td>3.000</td>\n",
              "      <td>0.0</td>\n",
              "    </tr>\n",
              "    <tr>\n",
              "      <th>1</th>\n",
              "      <td>volatile acidity</td>\n",
              "      <td>1.180</td>\n",
              "      <td>0.0</td>\n",
              "    </tr>\n",
              "    <tr>\n",
              "      <th>2</th>\n",
              "      <td>citric acid</td>\n",
              "      <td>0.062</td>\n",
              "      <td>0.0</td>\n",
              "    </tr>\n",
              "    <tr>\n",
              "      <th>3</th>\n",
              "      <td>residual sugar</td>\n",
              "      <td>9.600</td>\n",
              "      <td>0.0</td>\n",
              "    </tr>\n",
              "    <tr>\n",
              "      <th>4</th>\n",
              "      <td>chlorides</td>\n",
              "      <td>6.400</td>\n",
              "      <td>0.5</td>\n",
              "    </tr>\n",
              "    <tr>\n",
              "      <th>5</th>\n",
              "      <td>free sulfur dioxide</td>\n",
              "      <td>1.800</td>\n",
              "      <td>0.0</td>\n",
              "    </tr>\n",
              "    <tr>\n",
              "      <th>6</th>\n",
              "      <td>total sulfur dioxide</td>\n",
              "      <td>3.000</td>\n",
              "      <td>0.0</td>\n",
              "    </tr>\n",
              "    <tr>\n",
              "      <th>7</th>\n",
              "      <td>density</td>\n",
              "      <td>1.500</td>\n",
              "      <td>1.3</td>\n",
              "    </tr>\n",
              "    <tr>\n",
              "      <th>8</th>\n",
              "      <td>pH</td>\n",
              "      <td>1.300</td>\n",
              "      <td>0.8</td>\n",
              "    </tr>\n",
              "    <tr>\n",
              "      <th>9</th>\n",
              "      <td>sulphates</td>\n",
              "      <td>3.000</td>\n",
              "      <td>0.0</td>\n",
              "    </tr>\n",
              "    <tr>\n",
              "      <th>10</th>\n",
              "      <td>alcohol</td>\n",
              "      <td>0.800</td>\n",
              "      <td>0.0</td>\n",
              "    </tr>\n",
              "  </tbody>\n",
              "</table>\n",
              "</div>"
            ],
            "text/plain": [
              "             Componentes  % de Extremo Derecho  % de Extremo Izquierdo\n",
              "0          fixed acidity                 3.000                     0.0\n",
              "1       volatile acidity                 1.180                     0.0\n",
              "2            citric acid                 0.062                     0.0\n",
              "3         residual sugar                 9.600                     0.0\n",
              "4              chlorides                 6.400                     0.5\n",
              "5    free sulfur dioxide                 1.800                     0.0\n",
              "6   total sulfur dioxide                 3.000                     0.0\n",
              "7                density                 1.500                     1.3\n",
              "8                     pH                 1.300                     0.8\n",
              "9              sulphates                 3.000                     0.0\n",
              "10               alcohol                 0.800                     0.0"
            ]
          },
          "metadata": {},
          "execution_count": 1013
        }
      ]
    },
    {
      "cell_type": "markdown",
      "metadata": {
        "id": "80of1iskx8lE"
      },
      "source": [
        "¿Que porcentaje tiene de Outliers el dataset?"
      ]
    },
    {
      "cell_type": "code",
      "metadata": {
        "id": "j2O82Vtyx04C",
        "colab": {
          "base_uri": "https://localhost:8080/"
        },
        "outputId": "4643c682-7edb-4a61-d954-5a83b5c7cc96"
      },
      "source": [
        "outliers['% de Extremo Derecho'].sum()+outliers['% de Extremo Izquierdo'].sum()"
      ],
      "execution_count": 1014,
      "outputs": [
        {
          "output_type": "execute_result",
          "data": {
            "text/plain": [
              "34.242"
            ]
          },
          "metadata": {},
          "execution_count": 1014
        }
      ]
    },
    {
      "cell_type": "markdown",
      "metadata": {
        "id": "ETBTTFodxCbj"
      },
      "source": [
        "Descripcion general de los datos "
      ]
    },
    {
      "cell_type": "code",
      "metadata": {
        "id": "_wb1g0i99LnW",
        "colab": {
          "base_uri": "https://localhost:8080/",
          "height": 335
        },
        "outputId": "4d7d087b-19f9-45b8-d1cb-f9503c93d27d"
      },
      "source": [
        "data.describe()"
      ],
      "execution_count": 1015,
      "outputs": [
        {
          "output_type": "execute_result",
          "data": {
            "text/html": [
              "<div>\n",
              "<style scoped>\n",
              "    .dataframe tbody tr th:only-of-type {\n",
              "        vertical-align: middle;\n",
              "    }\n",
              "\n",
              "    .dataframe tbody tr th {\n",
              "        vertical-align: top;\n",
              "    }\n",
              "\n",
              "    .dataframe thead th {\n",
              "        text-align: right;\n",
              "    }\n",
              "</style>\n",
              "<table border=\"1\" class=\"dataframe\">\n",
              "  <thead>\n",
              "    <tr style=\"text-align: right;\">\n",
              "      <th></th>\n",
              "      <th>fixed acidity</th>\n",
              "      <th>volatile acidity</th>\n",
              "      <th>citric acid</th>\n",
              "      <th>residual sugar</th>\n",
              "      <th>chlorides</th>\n",
              "      <th>free sulfur dioxide</th>\n",
              "      <th>total sulfur dioxide</th>\n",
              "      <th>density</th>\n",
              "      <th>pH</th>\n",
              "      <th>sulphates</th>\n",
              "      <th>alcohol</th>\n",
              "      <th>quality</th>\n",
              "    </tr>\n",
              "  </thead>\n",
              "  <tbody>\n",
              "    <tr>\n",
              "      <th>count</th>\n",
              "      <td>1599.000000</td>\n",
              "      <td>1599.000000</td>\n",
              "      <td>1599.000000</td>\n",
              "      <td>1599.000000</td>\n",
              "      <td>1599.000000</td>\n",
              "      <td>1599.000000</td>\n",
              "      <td>1599.000000</td>\n",
              "      <td>1599.000000</td>\n",
              "      <td>1599.000000</td>\n",
              "      <td>1599.000000</td>\n",
              "      <td>1599.000000</td>\n",
              "      <td>1599.000000</td>\n",
              "    </tr>\n",
              "    <tr>\n",
              "      <th>mean</th>\n",
              "      <td>8.319637</td>\n",
              "      <td>0.527821</td>\n",
              "      <td>0.270976</td>\n",
              "      <td>2.538806</td>\n",
              "      <td>0.087467</td>\n",
              "      <td>15.874922</td>\n",
              "      <td>46.467792</td>\n",
              "      <td>0.996747</td>\n",
              "      <td>3.311113</td>\n",
              "      <td>0.658149</td>\n",
              "      <td>10.422983</td>\n",
              "      <td>5.636023</td>\n",
              "    </tr>\n",
              "    <tr>\n",
              "      <th>std</th>\n",
              "      <td>1.741096</td>\n",
              "      <td>0.179060</td>\n",
              "      <td>0.194801</td>\n",
              "      <td>1.409928</td>\n",
              "      <td>0.047065</td>\n",
              "      <td>10.460157</td>\n",
              "      <td>32.895324</td>\n",
              "      <td>0.001887</td>\n",
              "      <td>0.154386</td>\n",
              "      <td>0.169507</td>\n",
              "      <td>1.065668</td>\n",
              "      <td>0.807569</td>\n",
              "    </tr>\n",
              "    <tr>\n",
              "      <th>min</th>\n",
              "      <td>4.600000</td>\n",
              "      <td>0.120000</td>\n",
              "      <td>0.000000</td>\n",
              "      <td>0.900000</td>\n",
              "      <td>0.012000</td>\n",
              "      <td>1.000000</td>\n",
              "      <td>6.000000</td>\n",
              "      <td>0.990070</td>\n",
              "      <td>2.740000</td>\n",
              "      <td>0.330000</td>\n",
              "      <td>8.400000</td>\n",
              "      <td>3.000000</td>\n",
              "    </tr>\n",
              "    <tr>\n",
              "      <th>25%</th>\n",
              "      <td>7.100000</td>\n",
              "      <td>0.390000</td>\n",
              "      <td>0.090000</td>\n",
              "      <td>1.900000</td>\n",
              "      <td>0.070000</td>\n",
              "      <td>7.000000</td>\n",
              "      <td>22.000000</td>\n",
              "      <td>0.995600</td>\n",
              "      <td>3.210000</td>\n",
              "      <td>0.550000</td>\n",
              "      <td>9.500000</td>\n",
              "      <td>5.000000</td>\n",
              "    </tr>\n",
              "    <tr>\n",
              "      <th>50%</th>\n",
              "      <td>7.900000</td>\n",
              "      <td>0.520000</td>\n",
              "      <td>0.260000</td>\n",
              "      <td>2.200000</td>\n",
              "      <td>0.079000</td>\n",
              "      <td>14.000000</td>\n",
              "      <td>38.000000</td>\n",
              "      <td>0.996750</td>\n",
              "      <td>3.310000</td>\n",
              "      <td>0.620000</td>\n",
              "      <td>10.200000</td>\n",
              "      <td>6.000000</td>\n",
              "    </tr>\n",
              "    <tr>\n",
              "      <th>75%</th>\n",
              "      <td>9.200000</td>\n",
              "      <td>0.640000</td>\n",
              "      <td>0.420000</td>\n",
              "      <td>2.600000</td>\n",
              "      <td>0.090000</td>\n",
              "      <td>21.000000</td>\n",
              "      <td>62.000000</td>\n",
              "      <td>0.997835</td>\n",
              "      <td>3.400000</td>\n",
              "      <td>0.730000</td>\n",
              "      <td>11.100000</td>\n",
              "      <td>6.000000</td>\n",
              "    </tr>\n",
              "    <tr>\n",
              "      <th>max</th>\n",
              "      <td>15.900000</td>\n",
              "      <td>1.580000</td>\n",
              "      <td>1.000000</td>\n",
              "      <td>15.500000</td>\n",
              "      <td>0.611000</td>\n",
              "      <td>72.000000</td>\n",
              "      <td>289.000000</td>\n",
              "      <td>1.003690</td>\n",
              "      <td>4.010000</td>\n",
              "      <td>2.000000</td>\n",
              "      <td>14.900000</td>\n",
              "      <td>8.000000</td>\n",
              "    </tr>\n",
              "  </tbody>\n",
              "</table>\n",
              "</div>"
            ],
            "text/plain": [
              "       fixed acidity  volatile acidity  ...      alcohol      quality\n",
              "count    1599.000000       1599.000000  ...  1599.000000  1599.000000\n",
              "mean        8.319637          0.527821  ...    10.422983     5.636023\n",
              "std         1.741096          0.179060  ...     1.065668     0.807569\n",
              "min         4.600000          0.120000  ...     8.400000     3.000000\n",
              "25%         7.100000          0.390000  ...     9.500000     5.000000\n",
              "50%         7.900000          0.520000  ...    10.200000     6.000000\n",
              "75%         9.200000          0.640000  ...    11.100000     6.000000\n",
              "max        15.900000          1.580000  ...    14.900000     8.000000\n",
              "\n",
              "[8 rows x 12 columns]"
            ]
          },
          "metadata": {},
          "execution_count": 1015
        }
      ]
    },
    {
      "cell_type": "markdown",
      "metadata": {
        "id": "5g0jmgdj7Bpt"
      },
      "source": [
        "\n",
        "1. boxplots muestra muchos valores atípicos para bastantes columnas. \n",
        "* acidez fija el 25% en 7,1 y 50% en 7,9. Tiene un 3% de Outliers.\n",
        "* acidez volátil el 25% en 0.39 y 50% en 0.52. Tiene un 1% de Outliers.\n",
        "* ácido cítrico - tiene distribucion uniforme, tiene distribucion 0 y 1. Tiene un 0.062% de Outliers\n",
        "* azúcar residual el minimo 0.9, maximo 15 excesiva diferencia. Tiene un 9.6% de Outliers\t\n",
        "* cloruros - Mínimo - 0.012, máximo - 0.611 excesiva diferencia. tiene un 6.4% de Outliers.\n",
        "* dióxido de azufre libre, minimo 1 y maximo 72 excesiva diferencia, tiene un 1.8% de Outliers.\n",
        "* dióxido de azufre total minimo 6, maximo 289 excesiva diferencia, tiene un 6.4% de Outliers.\n",
        "* densidad , 25% en 0.9956 y 50% en 0.9967, tiene un 1.5% de Outliers.\n",
        "* pH  25% en 3.2 y 50% en 3.3, tiene un 1.3% de Outliers.\n",
        "* Sulfato 25% en 0.55 y 50% en 0.62, tiene un 3% de Outliers.\n",
        "* Alcohol 25% en 9.5 y 50% en 10.2, tiene un 0.8% de Outliers.\n",
        "* total de outliers del dataset es de 31.64% distribuido en 11 componentes del vino\n",
        "\n",
        "---"
      ]
    },
    {
      "cell_type": "markdown",
      "metadata": {
        "id": "0I168gPR9gdx"
      },
      "source": [
        "A continuación, crearemos una nueva columna llamada Revisión. \n",
        "\n",
        "Esta columna contendrá los valores de 1, 2 y 3.\n",
        "\n",
        "* 1 - Muy Malo\n",
        "* 2 - Promedio\n",
        "* 3 - Excelente\n",
        "\n",
        "Esto se dividirá de la siguiente manera.\n",
        "* 1,2,3 -> Muy Malo\n",
        "* 4,5,6,7 -> Promedio\n",
        "* 8,9,10 -> Excelente\n",
        "\n",
        "* Crea una lista vacía llamada Reseñas"
      ]
    },
    {
      "cell_type": "code",
      "metadata": {
        "id": "RLerkGhB9pBm"
      },
      "source": [
        "reviews = []\n",
        "for i in data['quality']:\n",
        "    if i >= 1 and i <= 3:\n",
        "        reviews.append('1')\n",
        "    elif i >= 4 and i <= 7:\n",
        "        reviews.append('2')\n",
        "    elif i >= 8 and i <= 10:\n",
        "        reviews.append('3')\n",
        "data['Reviews'] = reviews\n"
      ],
      "execution_count": 1016,
      "outputs": []
    },
    {
      "cell_type": "markdown",
      "metadata": {
        "id": "fnkWez6k9w39"
      },
      "source": [
        "ver datos finales"
      ]
    },
    {
      "cell_type": "code",
      "metadata": {
        "id": "RYC3vU7v9xRe",
        "colab": {
          "base_uri": "https://localhost:8080/"
        },
        "outputId": "81025862-42a8-46d4-bc2a-0820250bd868"
      },
      "source": [
        "data.columns"
      ],
      "execution_count": 1017,
      "outputs": [
        {
          "output_type": "execute_result",
          "data": {
            "text/plain": [
              "Index(['fixed acidity', 'volatile acidity', 'citric acid', 'residual sugar',\n",
              "       'chlorides', 'free sulfur dioxide', 'total sulfur dioxide', 'density',\n",
              "       'pH', 'sulphates', 'alcohol', 'quality', 'Reviews'],\n",
              "      dtype='object')"
            ]
          },
          "metadata": {},
          "execution_count": 1017
        }
      ]
    },
    {
      "cell_type": "code",
      "metadata": {
        "id": "_b9q_RzJ9zz_",
        "colab": {
          "base_uri": "https://localhost:8080/"
        },
        "outputId": "7bdcbdb6-2df0-4259-c0c5-d9fbae3f5e13"
      },
      "source": [
        "data['Reviews'].unique()"
      ],
      "execution_count": 1018,
      "outputs": [
        {
          "output_type": "execute_result",
          "data": {
            "text/plain": [
              "array(['2', '3', '1'], dtype=object)"
            ]
          },
          "metadata": {},
          "execution_count": 1018
        }
      ]
    },
    {
      "cell_type": "code",
      "metadata": {
        "id": "cb3r0jjC94cW",
        "colab": {
          "base_uri": "https://localhost:8080/"
        },
        "outputId": "077b660a-687a-4547-a996-cc21f6436320"
      },
      "source": [
        "Counter(data['Reviews'])"
      ],
      "execution_count": 1019,
      "outputs": [
        {
          "output_type": "execute_result",
          "data": {
            "text/plain": [
              "Counter({'1': 10, '2': 1571, '3': 18})"
            ]
          },
          "metadata": {},
          "execution_count": 1019
        }
      ]
    },
    {
      "cell_type": "code",
      "metadata": {
        "id": "SM-NS6FhB39P",
        "colab": {
          "base_uri": "https://localhost:8080/"
        },
        "outputId": "50f61814-548c-4062-80e3-4dcc300afe0c"
      },
      "source": [
        "data['Reviews'].value_counts(normalize = True)*100"
      ],
      "execution_count": 1020,
      "outputs": [
        {
          "output_type": "execute_result",
          "data": {
            "text/plain": [
              "2    98.248906\n",
              "3     1.125704\n",
              "1     0.625391\n",
              "Name: Reviews, dtype: float64"
            ]
          },
          "metadata": {},
          "execution_count": 1020
        }
      ]
    },
    {
      "cell_type": "markdown",
      "metadata": {
        "id": "wq5p2Vno1EnS"
      },
      "source": [
        "Existen\n",
        "\n",
        "1.- Calidad mala 10 vinos. correspondiente a un 0.6%\n",
        "\n",
        "2.- Calidad promedio 1571 vinos. correspondiente a un 98%\n",
        "\n",
        "3.- Calidad bueno 18 vinos. correspondiente a un 1.1%\n",
        "\n",
        "\n",
        "---"
      ]
    },
    {
      "cell_type": "markdown",
      "metadata": {
        "id": "h7QPHH4Y-CPe"
      },
      "source": [
        "\n",
        "* Dividir las variables x e y\n",
        "* para tener datos de entrenamientos y datos de prueba para los modelos de marchine learning"
      ]
    },
    {
      "cell_type": "code",
      "metadata": {
        "id": "jbkefi_0-DYG"
      },
      "source": [
        "x = data.iloc[:,:11]\n",
        "y = data['Reviews']"
      ],
      "execution_count": 1021,
      "outputs": []
    },
    {
      "cell_type": "markdown",
      "metadata": {
        "id": "2OLsT0rb-SC2"
      },
      "source": [
        "Variables predictoras 'x'\n",
        "* 11 componentes del vino"
      ]
    },
    {
      "cell_type": "code",
      "metadata": {
        "id": "VFTLYWTC-F4Q",
        "colab": {
          "base_uri": "https://localhost:8080/",
          "height": 363
        },
        "outputId": "1491eb75-cb86-4cf2-e762-8f648a5d6689"
      },
      "source": [
        "x.head(10)"
      ],
      "execution_count": 1022,
      "outputs": [
        {
          "output_type": "execute_result",
          "data": {
            "text/html": [
              "<div>\n",
              "<style scoped>\n",
              "    .dataframe tbody tr th:only-of-type {\n",
              "        vertical-align: middle;\n",
              "    }\n",
              "\n",
              "    .dataframe tbody tr th {\n",
              "        vertical-align: top;\n",
              "    }\n",
              "\n",
              "    .dataframe thead th {\n",
              "        text-align: right;\n",
              "    }\n",
              "</style>\n",
              "<table border=\"1\" class=\"dataframe\">\n",
              "  <thead>\n",
              "    <tr style=\"text-align: right;\">\n",
              "      <th></th>\n",
              "      <th>fixed acidity</th>\n",
              "      <th>volatile acidity</th>\n",
              "      <th>citric acid</th>\n",
              "      <th>residual sugar</th>\n",
              "      <th>chlorides</th>\n",
              "      <th>free sulfur dioxide</th>\n",
              "      <th>total sulfur dioxide</th>\n",
              "      <th>density</th>\n",
              "      <th>pH</th>\n",
              "      <th>sulphates</th>\n",
              "      <th>alcohol</th>\n",
              "    </tr>\n",
              "  </thead>\n",
              "  <tbody>\n",
              "    <tr>\n",
              "      <th>0</th>\n",
              "      <td>7.4</td>\n",
              "      <td>0.70</td>\n",
              "      <td>0.00</td>\n",
              "      <td>1.9</td>\n",
              "      <td>0.076</td>\n",
              "      <td>11.0</td>\n",
              "      <td>34.0</td>\n",
              "      <td>0.9978</td>\n",
              "      <td>3.51</td>\n",
              "      <td>0.56</td>\n",
              "      <td>9.4</td>\n",
              "    </tr>\n",
              "    <tr>\n",
              "      <th>1</th>\n",
              "      <td>7.8</td>\n",
              "      <td>0.88</td>\n",
              "      <td>0.00</td>\n",
              "      <td>2.6</td>\n",
              "      <td>0.098</td>\n",
              "      <td>25.0</td>\n",
              "      <td>67.0</td>\n",
              "      <td>0.9968</td>\n",
              "      <td>3.20</td>\n",
              "      <td>0.68</td>\n",
              "      <td>9.8</td>\n",
              "    </tr>\n",
              "    <tr>\n",
              "      <th>2</th>\n",
              "      <td>7.8</td>\n",
              "      <td>0.76</td>\n",
              "      <td>0.04</td>\n",
              "      <td>2.3</td>\n",
              "      <td>0.092</td>\n",
              "      <td>15.0</td>\n",
              "      <td>54.0</td>\n",
              "      <td>0.9970</td>\n",
              "      <td>3.26</td>\n",
              "      <td>0.65</td>\n",
              "      <td>9.8</td>\n",
              "    </tr>\n",
              "    <tr>\n",
              "      <th>3</th>\n",
              "      <td>11.2</td>\n",
              "      <td>0.28</td>\n",
              "      <td>0.56</td>\n",
              "      <td>1.9</td>\n",
              "      <td>0.075</td>\n",
              "      <td>17.0</td>\n",
              "      <td>60.0</td>\n",
              "      <td>0.9980</td>\n",
              "      <td>3.16</td>\n",
              "      <td>0.58</td>\n",
              "      <td>9.8</td>\n",
              "    </tr>\n",
              "    <tr>\n",
              "      <th>4</th>\n",
              "      <td>7.4</td>\n",
              "      <td>0.70</td>\n",
              "      <td>0.00</td>\n",
              "      <td>1.9</td>\n",
              "      <td>0.076</td>\n",
              "      <td>11.0</td>\n",
              "      <td>34.0</td>\n",
              "      <td>0.9978</td>\n",
              "      <td>3.51</td>\n",
              "      <td>0.56</td>\n",
              "      <td>9.4</td>\n",
              "    </tr>\n",
              "    <tr>\n",
              "      <th>5</th>\n",
              "      <td>7.4</td>\n",
              "      <td>0.66</td>\n",
              "      <td>0.00</td>\n",
              "      <td>1.8</td>\n",
              "      <td>0.075</td>\n",
              "      <td>13.0</td>\n",
              "      <td>40.0</td>\n",
              "      <td>0.9978</td>\n",
              "      <td>3.51</td>\n",
              "      <td>0.56</td>\n",
              "      <td>9.4</td>\n",
              "    </tr>\n",
              "    <tr>\n",
              "      <th>6</th>\n",
              "      <td>7.9</td>\n",
              "      <td>0.60</td>\n",
              "      <td>0.06</td>\n",
              "      <td>1.6</td>\n",
              "      <td>0.069</td>\n",
              "      <td>15.0</td>\n",
              "      <td>59.0</td>\n",
              "      <td>0.9964</td>\n",
              "      <td>3.30</td>\n",
              "      <td>0.46</td>\n",
              "      <td>9.4</td>\n",
              "    </tr>\n",
              "    <tr>\n",
              "      <th>7</th>\n",
              "      <td>7.3</td>\n",
              "      <td>0.65</td>\n",
              "      <td>0.00</td>\n",
              "      <td>1.2</td>\n",
              "      <td>0.065</td>\n",
              "      <td>15.0</td>\n",
              "      <td>21.0</td>\n",
              "      <td>0.9946</td>\n",
              "      <td>3.39</td>\n",
              "      <td>0.47</td>\n",
              "      <td>10.0</td>\n",
              "    </tr>\n",
              "    <tr>\n",
              "      <th>8</th>\n",
              "      <td>7.8</td>\n",
              "      <td>0.58</td>\n",
              "      <td>0.02</td>\n",
              "      <td>2.0</td>\n",
              "      <td>0.073</td>\n",
              "      <td>9.0</td>\n",
              "      <td>18.0</td>\n",
              "      <td>0.9968</td>\n",
              "      <td>3.36</td>\n",
              "      <td>0.57</td>\n",
              "      <td>9.5</td>\n",
              "    </tr>\n",
              "    <tr>\n",
              "      <th>9</th>\n",
              "      <td>7.5</td>\n",
              "      <td>0.50</td>\n",
              "      <td>0.36</td>\n",
              "      <td>6.1</td>\n",
              "      <td>0.071</td>\n",
              "      <td>17.0</td>\n",
              "      <td>102.0</td>\n",
              "      <td>0.9978</td>\n",
              "      <td>3.35</td>\n",
              "      <td>0.80</td>\n",
              "      <td>10.5</td>\n",
              "    </tr>\n",
              "  </tbody>\n",
              "</table>\n",
              "</div>"
            ],
            "text/plain": [
              "   fixed acidity  volatile acidity  citric acid  ...    pH  sulphates  alcohol\n",
              "0            7.4              0.70         0.00  ...  3.51       0.56      9.4\n",
              "1            7.8              0.88         0.00  ...  3.20       0.68      9.8\n",
              "2            7.8              0.76         0.04  ...  3.26       0.65      9.8\n",
              "3           11.2              0.28         0.56  ...  3.16       0.58      9.8\n",
              "4            7.4              0.70         0.00  ...  3.51       0.56      9.4\n",
              "5            7.4              0.66         0.00  ...  3.51       0.56      9.4\n",
              "6            7.9              0.60         0.06  ...  3.30       0.46      9.4\n",
              "7            7.3              0.65         0.00  ...  3.39       0.47     10.0\n",
              "8            7.8              0.58         0.02  ...  3.36       0.57      9.5\n",
              "9            7.5              0.50         0.36  ...  3.35       0.80     10.5\n",
              "\n",
              "[10 rows x 11 columns]"
            ]
          },
          "metadata": {},
          "execution_count": 1022
        }
      ]
    },
    {
      "cell_type": "markdown",
      "metadata": {
        "id": "DZv5B-N9-Ov3"
      },
      "source": [
        "Variables a predecir 'y'\n",
        "* Variable Objetivo 'y' correspondiente a 'Reviews'"
      ]
    },
    {
      "cell_type": "code",
      "metadata": {
        "id": "SKsYDry6-LeX",
        "colab": {
          "base_uri": "https://localhost:8080/"
        },
        "outputId": "e40e7ff4-dc85-4805-8084-4c4e74c4f6d4"
      },
      "source": [
        "y.head(10)"
      ],
      "execution_count": 1023,
      "outputs": [
        {
          "output_type": "execute_result",
          "data": {
            "text/plain": [
              "0    2\n",
              "1    2\n",
              "2    2\n",
              "3    2\n",
              "4    2\n",
              "5    2\n",
              "6    2\n",
              "7    2\n",
              "8    2\n",
              "9    2\n",
              "Name: Reviews, dtype: object"
            ]
          },
          "metadata": {},
          "execution_count": 1023
        }
      ]
    },
    {
      "cell_type": "markdown",
      "metadata": {
        "id": "SSPYwoz7-dX2"
      },
      "source": [
        "# 3. Análisis de componentes principales\n",
        "* PCA sirve para reducir dimensionalidad y busca la mejor distribucion de los datos en términos de mínimos cuadrados.\n",
        "* Es decir, con el Dataset voy a intentar juntar y combinar de algún modo las variables que se parezcan y quedarme con el minimo numero de variables que explican el dataset.\n",
        "* Ahora escale los datos usando StandardScaler para PCA"
      ]
    },
    {
      "cell_type": "code",
      "metadata": {
        "id": "t5eIoyLA-e9l"
      },
      "source": [
        "from sklearn.preprocessing import StandardScaler\n",
        "sc = StandardScaler()\n",
        "x = sc.fit_transform(x)"
      ],
      "execution_count": 1024,
      "outputs": []
    },
    {
      "cell_type": "markdown",
      "metadata": {
        "id": "WwWbGXMi-kBP"
      },
      "source": [
        "ver las características escaladas"
      ]
    },
    {
      "cell_type": "code",
      "metadata": {
        "id": "aVGVKRh6-jMv",
        "colab": {
          "base_uri": "https://localhost:8080/"
        },
        "outputId": "d520920e-d3c1-454a-94f9-6fc1669f82bc"
      },
      "source": [
        "print(x)"
      ],
      "execution_count": 1025,
      "outputs": [
        {
          "output_type": "stream",
          "name": "stdout",
          "text": [
            "[[-0.52835961  0.96187667 -1.39147228 ...  1.28864292 -0.57920652\n",
            "  -0.96024611]\n",
            " [-0.29854743  1.96744245 -1.39147228 ... -0.7199333   0.1289504\n",
            "  -0.58477711]\n",
            " [-0.29854743  1.29706527 -1.18607043 ... -0.33117661 -0.04808883\n",
            "  -0.58477711]\n",
            " ...\n",
            " [-1.1603431  -0.09955388 -0.72391627 ...  0.70550789  0.54204194\n",
            "   0.54162988]\n",
            " [-1.39015528  0.65462046 -0.77526673 ...  1.6773996   0.30598963\n",
            "  -0.20930812]\n",
            " [-1.33270223 -1.21684919  1.02199944 ...  0.51112954  0.01092425\n",
            "   0.54162988]]\n"
          ]
        }
      ]
    },
    {
      "cell_type": "markdown",
      "metadata": {
        "id": "Boip-E8G-pnn"
      },
      "source": [
        "Proceda a realizar PCA\n"
      ]
    },
    {
      "cell_type": "code",
      "metadata": {
        "id": "DBWAnAw7-rA_"
      },
      "source": [
        "from sklearn.decomposition import PCA\n",
        "pca = PCA()\n",
        "x_pca = pca.fit_transform(x)"
      ],
      "execution_count": 1026,
      "outputs": []
    },
    {
      "cell_type": "markdown",
      "metadata": {
        "id": "mFVarJOM_CJ8"
      },
      "source": [
        "* trazar la gráfica para encontrar los componentes principales"
      ]
    },
    {
      "cell_type": "code",
      "metadata": {
        "id": "E-T9q_qk_EqY",
        "colab": {
          "base_uri": "https://localhost:8080/",
          "height": 592
        },
        "outputId": "93dc8f22-9b7a-490d-e2ce-d40233fc3eb3"
      },
      "source": [
        "plt.figure(figsize=(10,10))\n",
        "plt.plot(np.cumsum(pca.explained_variance_ratio_), 'ro-')\n",
        "plt.grid()"
      ],
      "execution_count": 1027,
      "outputs": [
        {
          "output_type": "display_data",
          "data": {
            "image/png": "[encoded data removed]",
            "text/plain": [
              "<Figure size 720x720 with 1 Axes>"
            ]
          },
          "metadata": {
            "needs_background": "light"
          }
        }
      ]
    },
    {
      "cell_type": "markdown",
      "metadata": {
        "id": "YBDecbUl_JWN"
      },
      "source": [
        "* Teniamos en el dataset original 11 componentes del vino\n",
        "* AS según el gráfico, podemos ver que los 8 componentes principales atribuyen el 90% de la variación en los datos.\n",
        "* Elegiremos los primeros 8 componentes para nuestra predicción."
      ]
    },
    {
      "cell_type": "code",
      "metadata": {
        "id": "_tlpC9GO_OVg"
      },
      "source": [
        "pca_new = PCA(n_components=8)\n",
        "x_new = pca_new.fit_transform(x)"
      ],
      "execution_count": 1028,
      "outputs": []
    },
    {
      "cell_type": "code",
      "metadata": {
        "id": "vTj2mrJ6_R1W",
        "colab": {
          "base_uri": "https://localhost:8080/"
        },
        "outputId": "2f2f1ede-0b9c-4ca6-e98e-061eaae8a8e5"
      },
      "source": [
        "print(x_new)"
      ],
      "execution_count": 1029,
      "outputs": [
        {
          "output_type": "stream",
          "name": "stdout",
          "text": [
            "[[-1.61952988  0.45095009 -1.77445415 ... -0.91392069 -0.16104319\n",
            "  -0.28225828]\n",
            " [-0.79916993  1.85655306 -0.91169017 ...  0.92971392 -1.00982858\n",
            "   0.76258697]\n",
            " [-0.74847909  0.88203886 -1.17139423 ...  0.40147313 -0.53955348\n",
            "   0.59794606]\n",
            " ...\n",
            " [-1.45612897  0.31174559  1.12423941 ... -0.50640956 -0.23108221\n",
            "   0.07938219]\n",
            " [-2.27051793  0.97979111  0.62796456 ... -0.86040762 -0.32148695\n",
            "  -0.46887589]\n",
            " [-0.42697475 -0.53669021  1.6289552  ... -0.49615364  1.18913227\n",
            "   0.04217568]]\n"
          ]
        }
      ]
    },
    {
      "cell_type": "markdown",
      "metadata": {
        "id": "tmLI3Dcq_Vrf"
      },
      "source": [
        "# 3. Predicción y selección de modelos\n",
        "* Divida los datos en datos de prueba y de tren\n",
        "\n"
      ]
    },
    {
      "cell_type": "code",
      "metadata": {
        "id": "V4QniBWK_WAA"
      },
      "source": [
        "from sklearn.model_selection import train_test_split\n",
        "x_train, x_test, y_train, y_test = train_test_split(x_new, y, test_size = 0.25)"
      ],
      "execution_count": 1030,
      "outputs": []
    },
    {
      "cell_type": "code",
      "metadata": {
        "id": "leh3pr22_9uh",
        "colab": {
          "base_uri": "https://localhost:8080/"
        },
        "outputId": "84daacda-d529-4b1e-b7b3-31d66c7138fe"
      },
      "source": [
        "print(x_train.shape)\n",
        "print(y_train.shape)\n",
        "print(x_test.shape)\n",
        "print(y_test.shape)"
      ],
      "execution_count": 1031,
      "outputs": [
        {
          "output_type": "stream",
          "name": "stdout",
          "text": [
            "(1199, 8)\n",
            "(1199,)\n",
            "(400, 8)\n",
            "(400,)\n"
          ]
        }
      ]
    },
    {
      "cell_type": "markdown",
      "metadata": {
        "id": "waEM8l3xADJR"
      },
      "source": [
        "# Probando Modelos\n",
        "1. Regresión logística.\n",
        "2. Árboles de decisión.\n",
        "3. Naive Bayes.\n",
        "4. Random Forests.\n",
        "5. SVM.\n",
        "\n",
        "\n",
        "\n",
        "#1. Regresión logística.\n"
      ]
    },
    {
      "cell_type": "code",
      "metadata": {
        "id": "EEU1-RgIALZH"
      },
      "source": [
        "from sklearn.linear_model import LogisticRegression\n",
        "from sklearn.metrics import confusion_matrix, accuracy_score #Matriz de confusion y score"
      ],
      "execution_count": 1032,
      "outputs": []
    },
    {
      "cell_type": "code",
      "metadata": {
        "id": "pnu0CONSA3J7"
      },
      "source": [
        "lr = LogisticRegression()\n",
        "lr.fit(x_train, y_train)\n",
        "lr_predict = lr.predict(x_test)\n"
      ],
      "execution_count": 1033,
      "outputs": []
    },
    {
      "cell_type": "code",
      "metadata": {
        "id": "aA3nOwNhrWWB",
        "colab": {
          "base_uri": "https://localhost:8080/"
        },
        "outputId": "d6f5652d-a812-41f7-acff-dd8e9eb33427"
      },
      "source": [
        "x_train.shape"
      ],
      "execution_count": 1034,
      "outputs": [
        {
          "output_type": "execute_result",
          "data": {
            "text/plain": [
              "(1199, 8)"
            ]
          },
          "metadata": {},
          "execution_count": 1034
        }
      ]
    },
    {
      "cell_type": "code",
      "metadata": {
        "id": "18xN057orYex",
        "colab": {
          "base_uri": "https://localhost:8080/"
        },
        "outputId": "e8e20881-bdd1-4568-a6a4-e3b6c7c575fa"
      },
      "source": [
        "y_train.shape"
      ],
      "execution_count": 1035,
      "outputs": [
        {
          "output_type": "execute_result",
          "data": {
            "text/plain": [
              "(1199,)"
            ]
          },
          "metadata": {},
          "execution_count": 1035
        }
      ]
    },
    {
      "cell_type": "markdown",
      "metadata": {
        "id": "blN3C5T5A-0S"
      },
      "source": [
        "imprimir matriz de confusión y puntuación de precisión\n",
        "* 98.5% de puntuacion tiene el modelo logistico"
      ]
    },
    {
      "cell_type": "code",
      "metadata": {
        "id": "_sGSa0W6BAJm",
        "colab": {
          "base_uri": "https://localhost:8080/"
        },
        "outputId": "d0a84365-6d5c-441e-cae0-2c6d80061c15"
      },
      "source": [
        "lr_conf_matrix = confusion_matrix(y_test, lr_predict)\n",
        "lr_acc_score = accuracy_score(y_test, lr_predict)\n",
        "print(lr_conf_matrix)\n",
        "print(lr_acc_score*100)"
      ],
      "execution_count": 1036,
      "outputs": [
        {
          "output_type": "stream",
          "name": "stdout",
          "text": [
            "[[  0   2   0]\n",
            " [  0 394   1]\n",
            " [  0   3   0]]\n",
            "98.5\n"
          ]
        }
      ]
    },
    {
      "cell_type": "markdown",
      "metadata": {
        "id": "CLdVlbw5DIEM"
      },
      "source": [
        "# 2. Arbol de decision"
      ]
    },
    {
      "cell_type": "code",
      "metadata": {
        "id": "9dugyx0NEcBf"
      },
      "source": [
        "from sklearn.tree import DecisionTreeClassifier"
      ],
      "execution_count": 1037,
      "outputs": []
    },
    {
      "cell_type": "code",
      "metadata": {
        "id": "cuSj3tkWEfdS"
      },
      "source": [
        "dt = DecisionTreeClassifier()\n",
        "dt.fit(x_train,y_train)\n",
        "dt_predict = dt.predict(x_test)"
      ],
      "execution_count": 1038,
      "outputs": []
    },
    {
      "cell_type": "markdown",
      "metadata": {
        "id": "smo_XEpEEiES"
      },
      "source": [
        "imprimir matriz de confusión y puntuación de precisión\n",
        "* 97.5% de Puntuacion el Arbol de clasificacion"
      ]
    },
    {
      "cell_type": "code",
      "metadata": {
        "id": "DcfVEIf7EiU6",
        "colab": {
          "base_uri": "https://localhost:8080/"
        },
        "outputId": "0f5aff11-7376-41d8-9a1b-5c73a304bb51"
      },
      "source": [
        "dt_conf_matrix = confusion_matrix(y_test, dt_predict)\n",
        "dt_acc_score = accuracy_score(y_test, dt_predict)\n",
        "print(dt_conf_matrix)\n",
        "print(dt_acc_score*100)"
      ],
      "execution_count": 1039,
      "outputs": [
        {
          "output_type": "stream",
          "name": "stdout",
          "text": [
            "[[  1   1   0]\n",
            " [  2 389   4]\n",
            " [  0   3   0]]\n",
            "97.5\n"
          ]
        }
      ]
    },
    {
      "cell_type": "markdown",
      "metadata": {
        "id": "3UXN5ERWE06C"
      },
      "source": [
        "# 3. Naive Bayes"
      ]
    },
    {
      "cell_type": "code",
      "metadata": {
        "id": "gtrZ1lJ6E2l3"
      },
      "source": [
        "from sklearn.naive_bayes import GaussianNB"
      ],
      "execution_count": 1040,
      "outputs": []
    },
    {
      "cell_type": "code",
      "metadata": {
        "id": "jZOvvhIaE51A"
      },
      "source": [
        "nb = GaussianNB()\n",
        "nb.fit(x_train,y_train)\n",
        "nb_predict=nb.predict(x_test)"
      ],
      "execution_count": 1041,
      "outputs": []
    },
    {
      "cell_type": "markdown",
      "metadata": {
        "id": "_GHNTs_KE86p"
      },
      "source": [
        "imprimir matriz de confusión y puntuación de precisión\n",
        "* 98.5% de Puntuacion Naive Bayes"
      ]
    },
    {
      "cell_type": "code",
      "metadata": {
        "id": "1n2ZtoL1E9Fq",
        "colab": {
          "base_uri": "https://localhost:8080/"
        },
        "outputId": "6e4109a2-cdac-490b-e6b6-960672b808a4"
      },
      "source": [
        "nb_conf_matrix = confusion_matrix(y_test, nb_predict)\n",
        "nb_acc_score = accuracy_score(y_test, nb_predict)\n",
        "print(nb_conf_matrix)\n",
        "print(nb_acc_score*100)"
      ],
      "execution_count": 1042,
      "outputs": [
        {
          "output_type": "stream",
          "name": "stdout",
          "text": [
            "[[  1   1   0]\n",
            " [  1 393   1]\n",
            " [  0   3   0]]\n",
            "98.5\n"
          ]
        }
      ]
    },
    {
      "cell_type": "markdown",
      "metadata": {
        "id": "rZnm0bpDFOlD"
      },
      "source": [
        "# 4. RandomForest"
      ]
    },
    {
      "cell_type": "code",
      "metadata": {
        "id": "3R4GAK_DFPYC"
      },
      "source": [
        "from sklearn.ensemble import RandomForestClassifier"
      ],
      "execution_count": 1043,
      "outputs": []
    },
    {
      "cell_type": "code",
      "metadata": {
        "id": "DZ6t3OGTFTfv"
      },
      "source": [
        "rf = RandomForestClassifier()\n",
        "rf.fit(x_train, y_train)\n",
        "rf_predict=rf.predict(x_test)"
      ],
      "execution_count": 1044,
      "outputs": []
    },
    {
      "cell_type": "markdown",
      "metadata": {
        "id": "LiYIP1coFX1Z"
      },
      "source": [
        "imprimir matriz de confusión y puntuación de precisión\n",
        "* tiene un 98.75% de Puntuacion RandomForest"
      ]
    },
    {
      "cell_type": "code",
      "metadata": {
        "id": "xoFe30AsFWDL",
        "colab": {
          "base_uri": "https://localhost:8080/"
        },
        "outputId": "b18f3b98-8658-4526-a326-95b827f12910"
      },
      "source": [
        "rf_conf_matrix = confusion_matrix(y_test, rf_predict)\n",
        "rf_acc_score = accuracy_score(y_test, rf_predict)\n",
        "print(rf_conf_matrix)\n",
        "print(rf_acc_score*100)"
      ],
      "execution_count": 1045,
      "outputs": [
        {
          "output_type": "stream",
          "name": "stdout",
          "text": [
            "[[  0   2   0]\n",
            " [  0 395   0]\n",
            " [  0   3   0]]\n",
            "98.75\n"
          ]
        }
      ]
    },
    {
      "cell_type": "markdown",
      "metadata": {
        "id": "Q72R44BzGtGz"
      },
      "source": [
        "# 5. SVM"
      ]
    },
    {
      "cell_type": "code",
      "metadata": {
        "id": "8YjTgEVKGwR7"
      },
      "source": [
        "from sklearn.svm import SVC"
      ],
      "execution_count": 1046,
      "outputs": []
    },
    {
      "cell_type": "markdown",
      "metadata": {
        "id": "yhlGaJXQGzgj"
      },
      "source": [
        "Primero usaremos el kernel rbf y verificaremos la precisión"
      ]
    },
    {
      "cell_type": "code",
      "metadata": {
        "id": "VRB10aPmGztl"
      },
      "source": [
        "lin_svc = SVC()\n",
        "lin_svc.fit(x_train, y_train)\n",
        "lin_svc=rf.predict(x_test)"
      ],
      "execution_count": 1047,
      "outputs": []
    },
    {
      "cell_type": "markdown",
      "metadata": {
        "id": "U2Qdj1fKG7E9"
      },
      "source": [
        "imprimir matriz de confusión y puntuación de precisión\n",
        "* 98.75% de precisión con RBF Kernel\n",
        "\n",
        "\n",
        "\n"
      ]
    },
    {
      "cell_type": "code",
      "metadata": {
        "id": "OvzLRNSzG5Qc",
        "colab": {
          "base_uri": "https://localhost:8080/"
        },
        "outputId": "62a2f7ea-6d17-4e51-dcef-5bee3482395e"
      },
      "source": [
        "lin_svc_conf_matrix = confusion_matrix(y_test, rf_predict)\n",
        "lin_svc_acc_score = accuracy_score(y_test, rf_predict)\n",
        "print(lin_svc_conf_matrix)\n",
        "print(lin_svc_acc_score*100)"
      ],
      "execution_count": 1048,
      "outputs": [
        {
          "output_type": "stream",
          "name": "stdout",
          "text": [
            "[[  0   2   0]\n",
            " [  0 395   0]\n",
            " [  0   3   0]]\n",
            "98.75\n"
          ]
        }
      ]
    },
    {
      "cell_type": "markdown",
      "metadata": {
        "id": "uPxS9CsvHL4R"
      },
      "source": [
        "Probemos ahora el kernel lineal y veamos si mejora nuestra precisión."
      ]
    },
    {
      "cell_type": "code",
      "metadata": {
        "id": "wD04bDYrHNyx"
      },
      "source": [
        "rbf_svc = SVC(kernel='linear')\n",
        "rbf_svc.fit(x_train, y_train)\n",
        "rbf_svc=rf.predict(x_test)"
      ],
      "execution_count": 1049,
      "outputs": []
    },
    {
      "cell_type": "markdown",
      "metadata": {
        "id": "ZKUArziwHTYX"
      },
      "source": [
        "imprimir matriz de confusión y puntuación de precisión\n",
        "* 98.75% de puntuacion el Modelo SVC"
      ]
    },
    {
      "cell_type": "code",
      "metadata": {
        "id": "hqabwfeYHRH9",
        "colab": {
          "base_uri": "https://localhost:8080/"
        },
        "outputId": "5bf616ee-039e-4fe2-fab8-8ec547eb3194"
      },
      "source": [
        "rbf_svc_conf_matrix = confusion_matrix(y_test, rf_predict)\n",
        "rbf_svc_acc_score = accuracy_score(y_test, rf_predict)\n",
        "print(rbf_svc_conf_matrix)\n",
        "print(rbf_svc_acc_score*100)"
      ],
      "execution_count": 1050,
      "outputs": [
        {
          "output_type": "stream",
          "name": "stdout",
          "text": [
            "[[  0   2   0]\n",
            " [  0 395   0]\n",
            " [  0   3   0]]\n",
            "98.75\n"
          ]
        }
      ]
    },
    {
      "cell_type": "markdown",
      "metadata": {
        "id": "KVOVcCxhHkzc"
      },
      "source": [
        "podemos ver que el SVC y el bosque aleatorio nos brindan una buena precisión de predicción para el problema de clasificación de vinos. Podemos mejorar aún más la precisión ajustando los parámetros de cada clasificador. "
      ]
    },
    {
      "cell_type": "code",
      "metadata": {
        "id": "sdgt00CV03kO",
        "colab": {
          "base_uri": "https://localhost:8080/",
          "height": 238
        },
        "outputId": "23375763-be12-4c6c-d5ba-c0ee4f6f47db"
      },
      "source": [
        "models = pd.DataFrame({\n",
        "    'Model' : ['Logistic Regression', 'Decision Tree', 'Naive Bayes', 'RandomForest', 'KBF kernel', 'SVC'],\n",
        "    'Score' : [lr_acc_score*100, dt_acc_score*100, nb_acc_score*100, rf_acc_score*100 , lin_svc_acc_score*100, rbf_svc_acc_score*100]\n",
        "})\n",
        "\n",
        "\n",
        "models.sort_values(by = 'Score', ascending = False)"
      ],
      "execution_count": 1051,
      "outputs": [
        {
          "output_type": "execute_result",
          "data": {
            "text/html": [
              "<div>\n",
              "<style scoped>\n",
              "    .dataframe tbody tr th:only-of-type {\n",
              "        vertical-align: middle;\n",
              "    }\n",
              "\n",
              "    .dataframe tbody tr th {\n",
              "        vertical-align: top;\n",
              "    }\n",
              "\n",
              "    .dataframe thead th {\n",
              "        text-align: right;\n",
              "    }\n",
              "</style>\n",
              "<table border=\"1\" class=\"dataframe\">\n",
              "  <thead>\n",
              "    <tr style=\"text-align: right;\">\n",
              "      <th></th>\n",
              "      <th>Model</th>\n",
              "      <th>Score</th>\n",
              "    </tr>\n",
              "  </thead>\n",
              "  <tbody>\n",
              "    <tr>\n",
              "      <th>3</th>\n",
              "      <td>RandomForest</td>\n",
              "      <td>98.75</td>\n",
              "    </tr>\n",
              "    <tr>\n",
              "      <th>4</th>\n",
              "      <td>KBF kernel</td>\n",
              "      <td>98.75</td>\n",
              "    </tr>\n",
              "    <tr>\n",
              "      <th>5</th>\n",
              "      <td>SVC</td>\n",
              "      <td>98.75</td>\n",
              "    </tr>\n",
              "    <tr>\n",
              "      <th>0</th>\n",
              "      <td>Logistic Regression</td>\n",
              "      <td>98.50</td>\n",
              "    </tr>\n",
              "    <tr>\n",
              "      <th>2</th>\n",
              "      <td>Naive Bayes</td>\n",
              "      <td>98.50</td>\n",
              "    </tr>\n",
              "    <tr>\n",
              "      <th>1</th>\n",
              "      <td>Decision Tree</td>\n",
              "      <td>97.50</td>\n",
              "    </tr>\n",
              "  </tbody>\n",
              "</table>\n",
              "</div>"
            ],
            "text/plain": [
              "                 Model  Score\n",
              "3         RandomForest  98.75\n",
              "4           KBF kernel  98.75\n",
              "5                  SVC  98.75\n",
              "0  Logistic Regression  98.50\n",
              "2          Naive Bayes  98.50\n",
              "1        Decision Tree  97.50"
            ]
          },
          "metadata": {},
          "execution_count": 1051
        }
      ]
    },
    {
      "cell_type": "markdown",
      "metadata": {
        "id": "R-vX_1c4EVLI"
      },
      "source": [
        "datos de 'Reviews' para clasificar vino según su calidad\n",
        "1. Calidad mala 1 vino. correspondiente a un 0.6%\n",
        "2. Calidad promedio 1571 vinos. correspondiente a un 98%\n",
        "3. Calidad excelente 18 vinos. correspondiente a un 1.1%\n",
        "---\n",
        "\n",
        "# Conclusion\n",
        "Podemos observar en la tabla 'models' que RandomForest, KBF kernel y SVC son los mejores modelos de machine learning para nuestro estudio del dataset 'wine', para poder clasificar los vinos segun a 'Reviews', es decir, podemos encontrar en un 98.75% la clasificacion correcta correspondiente a la calidad del vino.\n"
      ]
    }
  ]
}